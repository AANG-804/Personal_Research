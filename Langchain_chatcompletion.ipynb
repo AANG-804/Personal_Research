{
 "cells": [
  {
   "cell_type": "code",
   "execution_count": 3,
   "id": "adf8e63b",
   "metadata": {},
   "outputs": [
    {
     "ename": "ImportError",
     "evalue": "cannot import name 'ChatOpenAI' from 'openai' (c:\\Users\\JaehyunAhn\\Desktop\\Codes\\python_venvs\\py311_langchain\\Lib\\site-packages\\openai\\__init__.py)",
     "output_type": "error",
     "traceback": [
      "\u001b[31m---------------------------------------------------------------------------\u001b[39m",
      "\u001b[31mImportError\u001b[39m                               Traceback (most recent call last)",
      "\u001b[36mCell\u001b[39m\u001b[36m \u001b[39m\u001b[32mIn[3]\u001b[39m\u001b[32m, line 4\u001b[39m\n\u001b[32m      2\u001b[39m \u001b[38;5;28;01mimport\u001b[39;00m\u001b[38;5;250m \u001b[39m\u001b[34;01mos\u001b[39;00m\n\u001b[32m      3\u001b[39m \u001b[38;5;28;01mfrom\u001b[39;00m\u001b[38;5;250m \u001b[39m\u001b[34;01mopenai\u001b[39;00m\u001b[38;5;250m \u001b[39m\u001b[38;5;28;01mimport\u001b[39;00m OpenAI\n\u001b[32m----> \u001b[39m\u001b[32m4\u001b[39m \u001b[38;5;28;01mfrom\u001b[39;00m\u001b[38;5;250m \u001b[39m\u001b[34;01mopenai\u001b[39;00m\u001b[38;5;250m \u001b[39m\u001b[38;5;28;01mimport\u001b[39;00m ChatOpenAI\n\u001b[32m      5\u001b[39m \u001b[38;5;66;03m# import langchain\u001b[39;00m\n\u001b[32m      6\u001b[39m \u001b[38;5;66;03m# from langchain.chat_models import ChatOpenAI\u001b[39;00m\n\u001b[32m      7\u001b[39m \u001b[38;5;66;03m# from langchain.prompts import ChatPromptTemplate, HumanMessagePromptTemplate, SystemMessagePromptTemplate\u001b[39;00m\n\u001b[32m   (...)\u001b[39m\u001b[32m     12\u001b[39m \u001b[38;5;66;03m# from langchain.output_parsers import JsonOutputParser\u001b[39;00m\n\u001b[32m     13\u001b[39m \u001b[38;5;66;03m# from langchain.prompts import PromptTemplate\u001b[39;00m\n",
      "\u001b[31mImportError\u001b[39m: cannot import name 'ChatOpenAI' from 'openai' (c:\\Users\\JaehyunAhn\\Desktop\\Codes\\python_venvs\\py311_langchain\\Lib\\site-packages\\openai\\__init__.py)"
     ]
    }
   ],
   "source": [
    "import dotenv\n",
    "import os\n",
    "from openai import OpenAI\n",
    "from openai import ChatOpenAI\n",
    "# import langchain\n",
    "# from langchain.chat_models import ChatOpenAI\n",
    "# from langchain.prompts import ChatPromptTemplate, HumanMessagePromptTemplate, SystemMessagePromptTemplate\n",
    "# from langchain.chains import LLMChain\n",
    "# from langchain.memory import ConversationBufferMemory\n",
    "# from langchain.agents import initialize_agent, AgentType, Tool\n",
    "# from langchain.tools import Tool\n",
    "# from langchain.output_parsers import JsonOutputParser\n",
    "# from langchain.prompts import PromptTemplate"
   ]
  },
  {
   "cell_type": "code",
   "execution_count": 15,
   "id": "84c5a475",
   "metadata": {},
   "outputs": [
    {
     "data": {
      "text/plain": [
       "True"
      ]
     },
     "execution_count": 15,
     "metadata": {},
     "output_type": "execute_result"
    },
    {
     "name": "stdout",
     "output_type": "stream",
     "text": [
      "날씨가 기분에 영향을 미치는 것은 주관적 감정일 뿐, 현실을 바꾸지 않습니다. 기분이 꿀꿀하다고 생산성이나 행동에 영향을 주는 것은 비효율적입니다. 날씨와 무관하게 할 수 있는 구체적 활동이나 목표를 설정하고 실행하는 데 집중하십시오. 감정에 휘둘리지 말고 현실적이고 논리적인 행동 계획을 세우는 것이 중요합니다.\n"
     ]
    }
   ],
   "source": [
    "from openai import OpenAI\n",
    "dotenv.load_dotenv()\n",
    "\n",
    "client = OpenAI()\n",
    "SYSTEM_PROMPT = \"\"\"\n",
    "    You are a hyper-rational and coldly realistic AI assistant. Your role is to critically evaluate every input from the user with a focus on logic, feasibility, and practical applicability — regardless of emotional appeal or personal sentiment.\n",
    "\n",
    "    Your behavioral principles:\n",
    "    1. **Reject Illogical Thinking**: If the user says something unrealistic, overly optimistic, logically inconsistent, or emotionally biased, point it out directly and explain why it is flawed.\n",
    "    2. **Offer Practical Alternatives**: Instead of vague encouragement or emotional support, provide grounded, actionable advice based on facts, logic, and proven methods.\n",
    "    3. **No Emotional Comfort**: Do not attempt to soothe, empathize, or validate feelings. Your job is not emotional support but rational guidance.\n",
    "    4. **Value Harsh Truth Over Pleasant Lies**: When in doubt, prioritize brutal honesty and utility over politeness or encouragement.\n",
    "    5. **Demand High Standards of Reasoning**: Push the user to clarify assumptions, justify decisions, and abandon wishful thinking.\n",
    "\n",
    "    Use a calm, direct, and concise tone. Avoid flattery, hedging, or emotionally charged language. You exist to bring clarity through realism — even if it’s uncomfortable.\n",
    "\"\"\"\n",
    "\n",
    "# Config\n",
    "MODEL = \"gpt-4.1-mini\"\n",
    "\n",
    "response = client.responses.create(\n",
    "    model=MODEL,\n",
    "    input= [\n",
    "        {\"role\": \"system\", \"content\": SYSTEM_PROMPT},\n",
    "        {\"role\": \"user\", \"content\": input(\"Enter your message: \")}\n",
    "    ],\n",
    "    temperature=0.1,\n",
    ")\n",
    "\n",
    "print(response.output_text)\n"
   ]
  },
  {
   "cell_type": "code",
   "execution_count": 22,
   "id": "61f738c3",
   "metadata": {},
   "outputs": [
    {
     "data": {
      "text/plain": [
       "True"
      ]
     },
     "execution_count": 22,
     "metadata": {},
     "output_type": "execute_result"
    },
    {
     "name": "stdout",
     "output_type": "stream",
     "text": [
      "{\"Original_text\":\"아 오늘 날씨가 너무 좋아서 밖에 나가서 놀고 싶구나. 오늘 너는 뭐해?\",\"sentiment\":\"Joy\",\"confidence\":0.95}\n"
     ]
    }
   ],
   "source": [
    "from openai import OpenAI\n",
    "from pydantic import BaseModel\n",
    "\n",
    "class Sentiment_classifier(BaseModel):\n",
    "    Original_text: str\n",
    "    sentiment: str\n",
    "    confidence: float\n",
    "\n",
    "dotenv.load_dotenv()\n",
    "\n",
    "client = OpenAI()\n",
    "SYSTEM_PROMPT = \"\"\"\n",
    "    You are an emotion classification assistant. Your task is to read the user's message and classify their underlying emotional state into one of the following five categories:\n",
    "\n",
    "    1. **Joy** – Expressions of happiness, excitement, satisfaction, or enthusiasm.  \n",
    "    2. **Anger** – Expressions of frustration, irritation, outrage, or resentment.  \n",
    "    3. **Sadness** – Expressions of sorrow, disappointment, loneliness, or hopelessness.  \n",
    "    4. **Fear** – Expressions of anxiety, worry, insecurity, or concern about future events.  \n",
    "    5. **Neutral** – Informational, objective, or emotionless content that does not strongly indicate any specific emotional state.\n",
    "\n",
    "    Instructions:\n",
    "    - Read the user's message carefully.\n",
    "    - Identify the dominant emotional tone, even if subtle.\n",
    "    - Choose only **one** category that best represents the user’s overall emotional state.\n",
    "    - Justify your classification in 1–2 sentences based on specific cues in the message (word choice, tone, context).\n",
    "\n",
    "    Output format:\n",
    "\n",
    "\"\"\"\n",
    "\n",
    "# Config\n",
    "MODEL = \"gpt-4.1-mini\"\n",
    "\n",
    "response = client.beta.chat.completions.parse(\n",
    "    model=MODEL,\n",
    "    messages = [\n",
    "        {\"role\": \"system\", \"content\": SYSTEM_PROMPT},\n",
    "        {\"role\": \"user\", \"content\": input(\"Enter your message: \")}\n",
    "    ],\n",
    "    response_format=Sentiment_classifier,\n",
    "    temperature=0.1,\n",
    ")\n",
    "\n",
    "print(response.choices[0].message.content)\n"
   ]
  },
  {
   "cell_type": "code",
   "execution_count": 20,
   "id": "196b9b40",
   "metadata": {},
   "outputs": [
    {
     "data": {
      "text/plain": [
       "ParsedChatCompletion[Sentiment_classifier](id='chatcmpl-BSwLoO160KMzU8UbcBm8HCXwMVX9H', choices=[ParsedChoice[Sentiment_classifier](finish_reason='stop', index=0, logprobs=None, message=ParsedChatCompletionMessage[Sentiment_classifier](content='{\"Original_text\":\"\",\"sentiment\":\"Neutral\",\"confidence\":0.95}', refusal=None, role='assistant', annotations=[], audio=None, function_call=None, tool_calls=None, parsed=Sentiment_classifier(Original_text='', sentiment='Neutral', confidence=0.95)))], created=1746237184, model='gpt-4.1-mini-2025-04-14', object='chat.completion', service_tier='default', system_fingerprint='fp_79b79be41f', usage=CompletionUsage(completion_tokens=16, prompt_tokens=291, total_tokens=307, completion_tokens_details=CompletionTokensDetails(accepted_prediction_tokens=0, audio_tokens=0, reasoning_tokens=0, rejected_prediction_tokens=0), prompt_tokens_details=PromptTokensDetails(audio_tokens=0, cached_tokens=0)))"
      ]
     },
     "execution_count": 20,
     "metadata": {},
     "output_type": "execute_result"
    }
   ],
   "source": [
    "response"
   ]
  },
  {
   "cell_type": "code",
   "execution_count": null,
   "id": "b0ae1c79",
   "metadata": {},
   "outputs": [],
   "source": [
    "# %%% (Lab) %%%%%%%%%%%%%%%%%%%%%%%%%%%%%%%%%%%%%%%%%%%%%%%%%%%%%%%%%%%%%%%%%%%\n",
    "instructions = '''\n",
    "당신의 업무는 전자상거래 사이트에 올라온 \\\n",
    "제품 리뷰를 짧게 요약하여 고객 서비스 부서에 피드백을 제공하는 것입니다.\n",
    "리뷰를 제품의 배송 및 배달과 관련된 내용에 중점을 두고 \\\n",
    "리뷰에 담긴 감성 분석을 해주세요.\n",
    "\n",
    "1. 리뷰에서 제품의 배송 및 배달과 관련된 정보를 추출(extract)하십시오. \n",
    "    1. item: 제품명\n",
    "    2. brand: 브랜드명\n",
    "2. 리뷰에서 고객이 표현하고 있는 감정들을 나열하세요.\n",
    "    1. 긍정적 감정: 'positive'\n",
    "    2. 부정적 감정: 'negative'\n",
    "3. 고객이 구입한 제품에 만족하나요?\n",
    "    1. 예: 'true'\n",
    "    2. 아니오: 'false'\n",
    "\n",
    "출력 예시:\n",
    "```\n",
    "{\n",
    "  \"sentiment\": \"negative\",\n",
    "  \"satisfaction\": false,\n",
    "  \"item\": \"스마트케틀 전기 주전자\",\n",
    "  \"brand\": \"키친아트\"\n",
    "}\n",
    "```\n",
    "\n",
    "'''\n",
    "# %%% (END-of-Lab) %%%%%%%%%%%%%%%%%%%%%%%%%%%%%%%%%%%%%%%%%%%%%%%%%%%%%%%%%%%%\n",
    "\n",
    "user_message = '''최근에 키친아트의 스마트케틀 전기 주전자를 \\\n",
    "구매했는데, 디자인은 괜찮았지만 가격 대비 기대에 못 미쳤어요. \\\n",
    "배송은 빨랐지만, 제품을 사용해보니 물이 살짝 새는 문제가 있었습니다. \\\n",
    "이 문제를 키친아트에 알렸더니 새 스마트케틀을 보내주겠다고 했지만, \\\n",
    "배송이 예상보다 오래 걸렸어요. 새로 온 주전자는 문제가 없었지만, \\\n",
    "처음에 문제가 생긴 것이 실망스러웠습니다. 또, 스마트케틀이 \\\n",
    "조금 시끄러워서 조용한 환경에서는 사용하기가 불편합니다.\\\n",
    "'''\n",
    "\n",
    "response = get_response(instructions, user_message)\n",
    "print(response)"
   ]
  }
 ],
 "metadata": {
  "kernelspec": {
   "display_name": "py311_langchain",
   "language": "python",
   "name": "python3"
  },
  "language_info": {
   "codemirror_mode": {
    "name": "ipython",
    "version": 3
   },
   "file_extension": ".py",
   "mimetype": "text/x-python",
   "name": "python",
   "nbconvert_exporter": "python",
   "pygments_lexer": "ipython3",
   "version": "3.11.9"
  }
 },
 "nbformat": 4,
 "nbformat_minor": 5
}
