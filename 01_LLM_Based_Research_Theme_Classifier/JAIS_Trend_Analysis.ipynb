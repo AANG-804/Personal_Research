{
 "cells": [
  {
   "cell_type": "markdown",
   "id": "a93f5885",
   "metadata": {},
   "source": [
    "# JAIS Research Trend Analysis (2022-2025)\n",
    "- JAIS is a Flagship Journal of \"Association for Information Systems\" which is one of the best organization leading the information systems discipline.\n",
    "The Journal of the Association for Information Systems (JAIS), the flagship journal of the Association for Information Systems, publishes the highest quality scholarship in the field of information systems. It is inclusive in topics, level and unit of analysis, theory, method and philosophical and research approach, reflecting all aspects of Information Systems globally. The Journal promotes innovative, interesting and rigorously developed conceptual and empirical contributions and encourages theory based multi- or inter-disciplinary research.\n",
    "\n",
    "---"
   ]
  },
  {
   "cell_type": "markdown",
   "id": "7ded92f7",
   "metadata": {},
   "source": [
    "- JAIS covers wide range of themes (Especially)\n",
    "_JAIS_ is inclusive in its coverage of topics, level and unit of analysis, theory, method, and philosophical and research approaches - reflecting _all aspects_ of information systems research _globally_\n",
    "\n",
    "- I propose 10 kinds of theme categories in Information Systems research\n",
    "- Researches published between 2022-2025 will be classified in one category\n",
    "> - 1. AI and Machine Learning-Driven Information System Design and Organiztional Applications\n",
    "> - 2. IS Research on Information Security Behaviour, Privacy Concerns, and Technology Adoption\n",
    "> - 3. User Behaviour, Information Diffusion, and Community Dynamics in Social Media Platforms\n",
    "> - 4. Organizational-Level IS Strategy Research: Digital Transformation, IT Ambidexterity, and CIO Governance\n",
    "> - 5. Data Analytics-Driven IS Performance and Value Creation for Organizations and Society\n",
    "> - 6. Human–Computer Interaction, Interface Design, and User Experience (UX) in IS Research\n",
    "> - 7. ICT Design for Digital Inclusion, Social Equity, and Access Among Marginalized Populations\n",
    "> - 8. Digital Platform Business Models, User Engagement Mechanisms, and Market Transaction Design\n",
    "> - 9. Green IS, Corporate Social Responsibility, and Sustainable Information System Practices\n",
    "> - 10. Theory Building, Methodological Innovation, and Meta-Level Scholarship in IS"
   ]
  },
  {
   "cell_type": "code",
   "execution_count": 1,
   "id": "71f587f3",
   "metadata": {},
   "outputs": [],
   "source": [
    "import pandas as pd\n",
    "import matplotlib.pyplot as plt\n",
    "import matplotlib as mpl\n",
    "import matplotlib.font_manager as fm\n",
    "\n",
    "# 1. 폰트 설정\n",
    "mpl.rcParams['font.family'] = 'Verdana'  # 또는 'Calibri', 'Arial', 'Verdana'\n",
    "mpl.rcParams['axes.unicode_minus'] = False  # 마이너스 깨짐 방지"
   ]
  },
  {
   "cell_type": "code",
   "execution_count": 35,
   "id": "058d32ed",
   "metadata": {},
   "outputs": [
    {
     "data": {
      "text/html": [
       "<div>\n",
       "<style scoped>\n",
       "    .dataframe tbody tr th:only-of-type {\n",
       "        vertical-align: middle;\n",
       "    }\n",
       "\n",
       "    .dataframe tbody tr th {\n",
       "        vertical-align: top;\n",
       "    }\n",
       "\n",
       "    .dataframe thead th {\n",
       "        text-align: right;\n",
       "    }\n",
       "</style>\n",
       "<table border=\"1\" class=\"dataframe\">\n",
       "  <thead>\n",
       "    <tr style=\"text-align: right;\">\n",
       "      <th></th>\n",
       "      <th>title</th>\n",
       "      <th>abstract</th>\n",
       "      <th>citation</th>\n",
       "      <th>url</th>\n",
       "      <th>year</th>\n",
       "      <th>volume</th>\n",
       "      <th>issue</th>\n",
       "      <th>category_number_category_num_gemini</th>\n",
       "      <th>rationale_category_num_gemini</th>\n",
       "      <th>category_number_category_num_gpt41</th>\n",
       "      <th>rationale_category_num_gpt41</th>\n",
       "      <th>category_number_category_num_gpt41mini</th>\n",
       "      <th>rationale_category_num_gpt41mini</th>\n",
       "      <th>category_number_category_num_gpt4omini</th>\n",
       "      <th>rationale_category_num_gpt4omini</th>\n",
       "      <th>final_label_majority</th>\n",
       "    </tr>\n",
       "  </thead>\n",
       "  <tbody>\n",
       "    <tr>\n",
       "      <th>0</th>\n",
       "      <td>Explaining Persistent Ineffectiveness in Profe...</td>\n",
       "      <td>Abstract\\nOnline communities (OCs) have become...</td>\n",
       "      <td>Recommended Citation\\n\\n\\n    Stein, Mari-Klar...</td>\n",
       "      <td>https://aisel.aisnet.org/jais/vol23/iss1/1/</td>\n",
       "      <td>2022</td>\n",
       "      <td>23</td>\n",
       "      <td>1</td>\n",
       "      <td>3</td>\n",
       "      <td>The paper investigates user behavior (coping s...</td>\n",
       "      <td>3</td>\n",
       "      <td>The paper investigates user behavior, coping s...</td>\n",
       "      <td>3</td>\n",
       "      <td>The paper focuses on user behavior, community ...</td>\n",
       "      <td>3</td>\n",
       "      <td>The paper examines how multilevel tensions and...</td>\n",
       "      <td>3</td>\n",
       "    </tr>\n",
       "    <tr>\n",
       "      <th>1</th>\n",
       "      <td>A Design Theory for Energy and Carbon Manageme...</td>\n",
       "      <td>Abstract\\nEnergy and carbon management systems...</td>\n",
       "      <td>Recommended Citation\\n\\n\\n    Zampou, Eleni; M...</td>\n",
       "      <td>https://aisel.aisnet.org/jais/vol23/iss1/2/</td>\n",
       "      <td>2022</td>\n",
       "      <td>23</td>\n",
       "      <td>1</td>\n",
       "      <td>9</td>\n",
       "      <td>The paper focuses on the design and theory dev...</td>\n",
       "      <td>9</td>\n",
       "      <td>The paper develops a design theory for energy ...</td>\n",
       "      <td>9</td>\n",
       "      <td>The paper develops a design theory for energy ...</td>\n",
       "      <td>9</td>\n",
       "      <td>This paper develops a design science theory fo...</td>\n",
       "      <td>9</td>\n",
       "    </tr>\n",
       "    <tr>\n",
       "      <th>2</th>\n",
       "      <td>Examining the Impacts of Airbnb Review Policy ...</td>\n",
       "      <td>Abstract\\nIn July 2014, Airbnb, one of the big...</td>\n",
       "      <td>Recommended Citation\\n\\n\\n    Mousavi, Reza an...</td>\n",
       "      <td>https://aisel.aisnet.org/jais/vol23/iss1/3/</td>\n",
       "      <td>2022</td>\n",
       "      <td>23</td>\n",
       "      <td>1</td>\n",
       "      <td>8</td>\n",
       "      <td>The study examines how a policy change on a di...</td>\n",
       "      <td>8</td>\n",
       "      <td>The paper investigates the effects of a platfo...</td>\n",
       "      <td>3</td>\n",
       "      <td>The paper studies how a platform policy change...</td>\n",
       "      <td>8</td>\n",
       "      <td>The paper empirically evaluates a platform gov...</td>\n",
       "      <td>8</td>\n",
       "    </tr>\n",
       "    <tr>\n",
       "      <th>3</th>\n",
       "      <td>Inventing Together: The Role of Actor Goals an...</td>\n",
       "      <td>Abstract\\nWith the ubiquity of the internet an...</td>\n",
       "      <td>Recommended Citation\\n\\n\\n    Abhari, Kaveh; D...</td>\n",
       "      <td>https://aisel.aisnet.org/jais/vol23/iss1/4/</td>\n",
       "      <td>2022</td>\n",
       "      <td>23</td>\n",
       "      <td>1</td>\n",
       "      <td>8</td>\n",
       "      <td>The study investigates individual participatio...</td>\n",
       "      <td>8</td>\n",
       "      <td>The paper focuses on user engagement mechanism...</td>\n",
       "      <td>8</td>\n",
       "      <td>The paper focuses on user participation and be...</td>\n",
       "      <td>8</td>\n",
       "      <td>The study examines how platform affordances an...</td>\n",
       "      <td>8</td>\n",
       "    </tr>\n",
       "    <tr>\n",
       "      <th>4</th>\n",
       "      <td>The Design of a System for Online Psychosocial...</td>\n",
       "      <td>Abstract\\nThe design of sensitive online healt...</td>\n",
       "      <td>Recommended Citation\\n\\n\\n    Sjöström, Jonas;...</td>\n",
       "      <td>https://aisel.aisnet.org/jais/vol23/iss1/5/</td>\n",
       "      <td>2022</td>\n",
       "      <td>23</td>\n",
       "      <td>1</td>\n",
       "      <td>2</td>\n",
       "      <td>The paper focuses on designing an information ...</td>\n",
       "      <td>2</td>\n",
       "      <td>The paper centers on balancing privacy and acc...</td>\n",
       "      <td>2</td>\n",
       "      <td>The paper focuses on designing an online healt...</td>\n",
       "      <td>2</td>\n",
       "      <td>This design science study focuses on embedding...</td>\n",
       "      <td>2</td>\n",
       "    </tr>\n",
       "  </tbody>\n",
       "</table>\n",
       "</div>"
      ],
      "text/plain": [
       "                                               title  \\\n",
       "0  Explaining Persistent Ineffectiveness in Profe...   \n",
       "1  A Design Theory for Energy and Carbon Manageme...   \n",
       "2  Examining the Impacts of Airbnb Review Policy ...   \n",
       "3  Inventing Together: The Role of Actor Goals an...   \n",
       "4  The Design of a System for Online Psychosocial...   \n",
       "\n",
       "                                            abstract  \\\n",
       "0  Abstract\\nOnline communities (OCs) have become...   \n",
       "1  Abstract\\nEnergy and carbon management systems...   \n",
       "2  Abstract\\nIn July 2014, Airbnb, one of the big...   \n",
       "3  Abstract\\nWith the ubiquity of the internet an...   \n",
       "4  Abstract\\nThe design of sensitive online healt...   \n",
       "\n",
       "                                            citation  \\\n",
       "0  Recommended Citation\\n\\n\\n    Stein, Mari-Klar...   \n",
       "1  Recommended Citation\\n\\n\\n    Zampou, Eleni; M...   \n",
       "2  Recommended Citation\\n\\n\\n    Mousavi, Reza an...   \n",
       "3  Recommended Citation\\n\\n\\n    Abhari, Kaveh; D...   \n",
       "4  Recommended Citation\\n\\n\\n    Sjöström, Jonas;...   \n",
       "\n",
       "                                           url  year  volume issue  \\\n",
       "0  https://aisel.aisnet.org/jais/vol23/iss1/1/  2022      23     1   \n",
       "1  https://aisel.aisnet.org/jais/vol23/iss1/2/  2022      23     1   \n",
       "2  https://aisel.aisnet.org/jais/vol23/iss1/3/  2022      23     1   \n",
       "3  https://aisel.aisnet.org/jais/vol23/iss1/4/  2022      23     1   \n",
       "4  https://aisel.aisnet.org/jais/vol23/iss1/5/  2022      23     1   \n",
       "\n",
       "   category_number_category_num_gemini  \\\n",
       "0                                    3   \n",
       "1                                    9   \n",
       "2                                    8   \n",
       "3                                    8   \n",
       "4                                    2   \n",
       "\n",
       "                       rationale_category_num_gemini  \\\n",
       "0  The paper investigates user behavior (coping s...   \n",
       "1  The paper focuses on the design and theory dev...   \n",
       "2  The study examines how a policy change on a di...   \n",
       "3  The study investigates individual participatio...   \n",
       "4  The paper focuses on designing an information ...   \n",
       "\n",
       "   category_number_category_num_gpt41  \\\n",
       "0                                   3   \n",
       "1                                   9   \n",
       "2                                   8   \n",
       "3                                   8   \n",
       "4                                   2   \n",
       "\n",
       "                        rationale_category_num_gpt41  \\\n",
       "0  The paper investigates user behavior, coping s...   \n",
       "1  The paper develops a design theory for energy ...   \n",
       "2  The paper investigates the effects of a platfo...   \n",
       "3  The paper focuses on user engagement mechanism...   \n",
       "4  The paper centers on balancing privacy and acc...   \n",
       "\n",
       "   category_number_category_num_gpt41mini  \\\n",
       "0                                       3   \n",
       "1                                       9   \n",
       "2                                       3   \n",
       "3                                       8   \n",
       "4                                       2   \n",
       "\n",
       "                    rationale_category_num_gpt41mini  \\\n",
       "0  The paper focuses on user behavior, community ...   \n",
       "1  The paper develops a design theory for energy ...   \n",
       "2  The paper studies how a platform policy change...   \n",
       "3  The paper focuses on user participation and be...   \n",
       "4  The paper focuses on designing an online healt...   \n",
       "\n",
       "   category_number_category_num_gpt4omini  \\\n",
       "0                                       3   \n",
       "1                                       9   \n",
       "2                                       8   \n",
       "3                                       8   \n",
       "4                                       2   \n",
       "\n",
       "                    rationale_category_num_gpt4omini  final_label_majority  \n",
       "0  The paper examines how multilevel tensions and...                     3  \n",
       "1  This paper develops a design science theory fo...                     9  \n",
       "2  The paper empirically evaluates a platform gov...                     8  \n",
       "3  The study examines how platform affordances an...                     8  \n",
       "4  This design science study focuses on embedding...                     2  "
      ]
     },
     "execution_count": 35,
     "metadata": {},
     "output_type": "execute_result"
    }
   ],
   "source": [
    "JAIS_data = pd.read_csv('JAIS_papers_classified.csv', encoding='utf-8-sig')\n",
    "JAIS_data.head(5)"
   ]
  },
  {
   "cell_type": "code",
   "execution_count": 47,
   "id": "4e394d26",
   "metadata": {},
   "outputs": [
    {
     "name": "stdout",
     "output_type": "stream",
     "text": [
      "<class 'pandas.core.frame.DataFrame'>\n",
      "RangeIndex: 170 entries, 0 to 169\n",
      "Data columns (total 16 columns):\n",
      " #   Column                                  Non-Null Count  Dtype \n",
      "---  ------                                  --------------  ----- \n",
      " 0   title                                   170 non-null    object\n",
      " 1   abstract                                170 non-null    object\n",
      " 2   citation                                170 non-null    object\n",
      " 3   url                                     170 non-null    object\n",
      " 4   year                                    170 non-null    int64 \n",
      " 5   volume                                  170 non-null    int64 \n",
      " 6   issue                                   170 non-null    object\n",
      " 7   category_number_category_num_gemini     170 non-null    int64 \n",
      " 8   rationale_category_num_gemini           170 non-null    object\n",
      " 9   category_number_category_num_gpt41      170 non-null    int64 \n",
      " 10  rationale_category_num_gpt41            170 non-null    object\n",
      " 11  category_number_category_num_gpt41mini  170 non-null    int64 \n",
      " 12  rationale_category_num_gpt41mini        170 non-null    object\n",
      " 13  category_number_category_num_gpt4omini  170 non-null    int64 \n",
      " 14  rationale_category_num_gpt4omini        170 non-null    object\n",
      " 15  final_label_majority                    170 non-null    int64 \n",
      "dtypes: int64(7), object(9)\n",
      "memory usage: 21.4+ KB\n"
     ]
    }
   ],
   "source": [
    "JAIS_data.info()"
   ]
  },
  {
   "cell_type": "code",
   "execution_count": 45,
   "id": "e976128d",
   "metadata": {},
   "outputs": [
    {
     "data": {
      "text/html": [
       "<div>\n",
       "<style scoped>\n",
       "    .dataframe tbody tr th:only-of-type {\n",
       "        vertical-align: middle;\n",
       "    }\n",
       "\n",
       "    .dataframe tbody tr th {\n",
       "        vertical-align: top;\n",
       "    }\n",
       "\n",
       "    .dataframe thead th {\n",
       "        text-align: right;\n",
       "    }\n",
       "</style>\n",
       "<table border=\"1\" class=\"dataframe\">\n",
       "  <thead>\n",
       "    <tr style=\"text-align: right;\">\n",
       "      <th></th>\n",
       "      <th>title</th>\n",
       "      <th>abstract</th>\n",
       "      <th>citation</th>\n",
       "      <th>url</th>\n",
       "      <th>year</th>\n",
       "      <th>volume</th>\n",
       "      <th>issue</th>\n",
       "      <th>category_number_category_num_gemini</th>\n",
       "      <th>rationale_category_num_gemini</th>\n",
       "      <th>category_number_category_num_gpt41</th>\n",
       "      <th>rationale_category_num_gpt41</th>\n",
       "      <th>category_number_category_num_gpt41mini</th>\n",
       "      <th>rationale_category_num_gpt41mini</th>\n",
       "      <th>category_number_category_num_gpt4omini</th>\n",
       "      <th>rationale_category_num_gpt4omini</th>\n",
       "      <th>final_label_majority</th>\n",
       "      <th>cite_count</th>\n",
       "    </tr>\n",
       "  </thead>\n",
       "  <tbody>\n",
       "    <tr>\n",
       "      <th>0</th>\n",
       "      <td>Explaining Persistent Ineffectiveness in Profe...</td>\n",
       "      <td>Abstract\\nOnline communities (OCs) have become...</td>\n",
       "      <td>Recommended Citation\\n\\n\\n    Stein, Mari-Klar...</td>\n",
       "      <td>https://aisel.aisnet.org/jais/vol23/iss1/1/</td>\n",
       "      <td>2022</td>\n",
       "      <td>23</td>\n",
       "      <td>1</td>\n",
       "      <td>3</td>\n",
       "      <td>The paper investigates user behavior (coping s...</td>\n",
       "      <td>3</td>\n",
       "      <td>The paper investigates user behavior, coping s...</td>\n",
       "      <td>3</td>\n",
       "      <td>The paper focuses on user behavior, community ...</td>\n",
       "      <td>3</td>\n",
       "      <td>The paper examines how multilevel tensions and...</td>\n",
       "      <td>3</td>\n",
       "      <td>9</td>\n",
       "    </tr>\n",
       "    <tr>\n",
       "      <th>1</th>\n",
       "      <td>A Design Theory for Energy and Carbon Manageme...</td>\n",
       "      <td>Abstract\\nEnergy and carbon management systems...</td>\n",
       "      <td>Recommended Citation\\n\\n\\n    Zampou, Eleni; M...</td>\n",
       "      <td>https://aisel.aisnet.org/jais/vol23/iss1/2/</td>\n",
       "      <td>2022</td>\n",
       "      <td>23</td>\n",
       "      <td>1</td>\n",
       "      <td>9</td>\n",
       "      <td>The paper focuses on the design and theory dev...</td>\n",
       "      <td>9</td>\n",
       "      <td>The paper develops a design theory for energy ...</td>\n",
       "      <td>9</td>\n",
       "      <td>The paper develops a design theory for energy ...</td>\n",
       "      <td>9</td>\n",
       "      <td>This paper develops a design science theory fo...</td>\n",
       "      <td>9</td>\n",
       "      <td>50</td>\n",
       "    </tr>\n",
       "    <tr>\n",
       "      <th>2</th>\n",
       "      <td>Examining the Impacts of Airbnb Review Policy ...</td>\n",
       "      <td>Abstract\\nIn July 2014, Airbnb, one of the big...</td>\n",
       "      <td>Recommended Citation\\n\\n\\n    Mousavi, Reza an...</td>\n",
       "      <td>https://aisel.aisnet.org/jais/vol23/iss1/3/</td>\n",
       "      <td>2022</td>\n",
       "      <td>23</td>\n",
       "      <td>1</td>\n",
       "      <td>8</td>\n",
       "      <td>The study examines how a policy change on a di...</td>\n",
       "      <td>8</td>\n",
       "      <td>The paper investigates the effects of a platfo...</td>\n",
       "      <td>3</td>\n",
       "      <td>The paper studies how a platform policy change...</td>\n",
       "      <td>8</td>\n",
       "      <td>The paper empirically evaluates a platform gov...</td>\n",
       "      <td>8</td>\n",
       "      <td>14</td>\n",
       "    </tr>\n",
       "    <tr>\n",
       "      <th>3</th>\n",
       "      <td>Inventing Together: The Role of Actor Goals an...</td>\n",
       "      <td>Abstract\\nWith the ubiquity of the internet an...</td>\n",
       "      <td>Recommended Citation\\n\\n\\n    Abhari, Kaveh; D...</td>\n",
       "      <td>https://aisel.aisnet.org/jais/vol23/iss1/4/</td>\n",
       "      <td>2022</td>\n",
       "      <td>23</td>\n",
       "      <td>1</td>\n",
       "      <td>8</td>\n",
       "      <td>The study investigates individual participatio...</td>\n",
       "      <td>8</td>\n",
       "      <td>The paper focuses on user engagement mechanism...</td>\n",
       "      <td>8</td>\n",
       "      <td>The paper focuses on user participation and be...</td>\n",
       "      <td>8</td>\n",
       "      <td>The study examines how platform affordances an...</td>\n",
       "      <td>8</td>\n",
       "      <td>45</td>\n",
       "    </tr>\n",
       "    <tr>\n",
       "      <th>4</th>\n",
       "      <td>The Design of a System for Online Psychosocial...</td>\n",
       "      <td>Abstract\\nThe design of sensitive online healt...</td>\n",
       "      <td>Recommended Citation\\n\\n\\n    Sjöström, Jonas;...</td>\n",
       "      <td>https://aisel.aisnet.org/jais/vol23/iss1/5/</td>\n",
       "      <td>2022</td>\n",
       "      <td>23</td>\n",
       "      <td>1</td>\n",
       "      <td>2</td>\n",
       "      <td>The paper focuses on designing an information ...</td>\n",
       "      <td>2</td>\n",
       "      <td>The paper centers on balancing privacy and acc...</td>\n",
       "      <td>2</td>\n",
       "      <td>The paper focuses on designing an online healt...</td>\n",
       "      <td>2</td>\n",
       "      <td>This design science study focuses on embedding...</td>\n",
       "      <td>2</td>\n",
       "      <td>20</td>\n",
       "    </tr>\n",
       "  </tbody>\n",
       "</table>\n",
       "</div>"
      ],
      "text/plain": [
       "                                               title  \\\n",
       "0  Explaining Persistent Ineffectiveness in Profe...   \n",
       "1  A Design Theory for Energy and Carbon Manageme...   \n",
       "2  Examining the Impacts of Airbnb Review Policy ...   \n",
       "3  Inventing Together: The Role of Actor Goals an...   \n",
       "4  The Design of a System for Online Psychosocial...   \n",
       "\n",
       "                                            abstract  \\\n",
       "0  Abstract\\nOnline communities (OCs) have become...   \n",
       "1  Abstract\\nEnergy and carbon management systems...   \n",
       "2  Abstract\\nIn July 2014, Airbnb, one of the big...   \n",
       "3  Abstract\\nWith the ubiquity of the internet an...   \n",
       "4  Abstract\\nThe design of sensitive online healt...   \n",
       "\n",
       "                                            citation  \\\n",
       "0  Recommended Citation\\n\\n\\n    Stein, Mari-Klar...   \n",
       "1  Recommended Citation\\n\\n\\n    Zampou, Eleni; M...   \n",
       "2  Recommended Citation\\n\\n\\n    Mousavi, Reza an...   \n",
       "3  Recommended Citation\\n\\n\\n    Abhari, Kaveh; D...   \n",
       "4  Recommended Citation\\n\\n\\n    Sjöström, Jonas;...   \n",
       "\n",
       "                                           url  year  volume issue  \\\n",
       "0  https://aisel.aisnet.org/jais/vol23/iss1/1/  2022      23     1   \n",
       "1  https://aisel.aisnet.org/jais/vol23/iss1/2/  2022      23     1   \n",
       "2  https://aisel.aisnet.org/jais/vol23/iss1/3/  2022      23     1   \n",
       "3  https://aisel.aisnet.org/jais/vol23/iss1/4/  2022      23     1   \n",
       "4  https://aisel.aisnet.org/jais/vol23/iss1/5/  2022      23     1   \n",
       "\n",
       "   category_number_category_num_gemini  \\\n",
       "0                                    3   \n",
       "1                                    9   \n",
       "2                                    8   \n",
       "3                                    8   \n",
       "4                                    2   \n",
       "\n",
       "                       rationale_category_num_gemini  \\\n",
       "0  The paper investigates user behavior (coping s...   \n",
       "1  The paper focuses on the design and theory dev...   \n",
       "2  The study examines how a policy change on a di...   \n",
       "3  The study investigates individual participatio...   \n",
       "4  The paper focuses on designing an information ...   \n",
       "\n",
       "   category_number_category_num_gpt41  \\\n",
       "0                                   3   \n",
       "1                                   9   \n",
       "2                                   8   \n",
       "3                                   8   \n",
       "4                                   2   \n",
       "\n",
       "                        rationale_category_num_gpt41  \\\n",
       "0  The paper investigates user behavior, coping s...   \n",
       "1  The paper develops a design theory for energy ...   \n",
       "2  The paper investigates the effects of a platfo...   \n",
       "3  The paper focuses on user engagement mechanism...   \n",
       "4  The paper centers on balancing privacy and acc...   \n",
       "\n",
       "   category_number_category_num_gpt41mini  \\\n",
       "0                                       3   \n",
       "1                                       9   \n",
       "2                                       3   \n",
       "3                                       8   \n",
       "4                                       2   \n",
       "\n",
       "                    rationale_category_num_gpt41mini  \\\n",
       "0  The paper focuses on user behavior, community ...   \n",
       "1  The paper develops a design theory for energy ...   \n",
       "2  The paper studies how a platform policy change...   \n",
       "3  The paper focuses on user participation and be...   \n",
       "4  The paper focuses on designing an online healt...   \n",
       "\n",
       "   category_number_category_num_gpt4omini  \\\n",
       "0                                       3   \n",
       "1                                       9   \n",
       "2                                       8   \n",
       "3                                       8   \n",
       "4                                       2   \n",
       "\n",
       "                    rationale_category_num_gpt4omini  final_label_majority  \\\n",
       "0  The paper examines how multilevel tensions and...                     3   \n",
       "1  This paper develops a design science theory fo...                     9   \n",
       "2  The paper empirically evaluates a platform gov...                     8   \n",
       "3  The study examines how platform affordances an...                     8   \n",
       "4  This design science study focuses on embedding...                     2   \n",
       "\n",
       "   cite_count  \n",
       "0           9  \n",
       "1          50  \n",
       "2          14  \n",
       "3          45  \n",
       "4          20  "
      ]
     },
     "execution_count": 45,
     "metadata": {},
     "output_type": "execute_result"
    }
   ],
   "source": [
    "citation_data = pd.read_csv('JAIS_Papers_with_citation.csv', encoding='utf-8-sig')\n",
    "citation_data.head(5)"
   ]
  },
  {
   "cell_type": "code",
   "execution_count": 46,
   "id": "ca7d84c0",
   "metadata": {},
   "outputs": [
    {
     "name": "stdout",
     "output_type": "stream",
     "text": [
      "<class 'pandas.core.frame.DataFrame'>\n",
      "RangeIndex: 170 entries, 0 to 169\n",
      "Data columns (total 17 columns):\n",
      " #   Column                                  Non-Null Count  Dtype \n",
      "---  ------                                  --------------  ----- \n",
      " 0   title                                   170 non-null    object\n",
      " 1   abstract                                170 non-null    object\n",
      " 2   citation                                170 non-null    object\n",
      " 3   url                                     170 non-null    object\n",
      " 4   year                                    170 non-null    int64 \n",
      " 5   volume                                  170 non-null    int64 \n",
      " 6   issue                                   170 non-null    object\n",
      " 7   category_number_category_num_gemini     170 non-null    int64 \n",
      " 8   rationale_category_num_gemini           170 non-null    object\n",
      " 9   category_number_category_num_gpt41      170 non-null    int64 \n",
      " 10  rationale_category_num_gpt41            170 non-null    object\n",
      " 11  category_number_category_num_gpt41mini  170 non-null    int64 \n",
      " 12  rationale_category_num_gpt41mini        170 non-null    object\n",
      " 13  category_number_category_num_gpt4omini  170 non-null    int64 \n",
      " 14  rationale_category_num_gpt4omini        170 non-null    object\n",
      " 15  final_label_majority                    170 non-null    int64 \n",
      " 16  cite_count                              170 non-null    int64 \n",
      "dtypes: int64(8), object(9)\n",
      "memory usage: 22.7+ KB\n"
     ]
    }
   ],
   "source": [
    "citation_data.info()"
   ]
  },
  {
   "cell_type": "code",
   "execution_count": 37,
   "id": "79267044",
   "metadata": {},
   "outputs": [
    {
     "data": {
      "text/html": [
       "<div>\n",
       "<style scoped>\n",
       "    .dataframe tbody tr th:only-of-type {\n",
       "        vertical-align: middle;\n",
       "    }\n",
       "\n",
       "    .dataframe tbody tr th {\n",
       "        vertical-align: top;\n",
       "    }\n",
       "\n",
       "    .dataframe thead th {\n",
       "        text-align: right;\n",
       "    }\n",
       "</style>\n",
       "<table border=\"1\" class=\"dataframe\">\n",
       "  <thead>\n",
       "    <tr style=\"text-align: right;\">\n",
       "      <th></th>\n",
       "      <th>title</th>\n",
       "      <th>abstract</th>\n",
       "      <th>citation</th>\n",
       "      <th>url</th>\n",
       "      <th>year</th>\n",
       "      <th>volume</th>\n",
       "      <th>issue</th>\n",
       "      <th>category_number_category_num_gemini</th>\n",
       "      <th>rationale_category_num_gemini</th>\n",
       "      <th>category_number_category_num_gpt41</th>\n",
       "      <th>rationale_category_num_gpt41</th>\n",
       "      <th>category_number_category_num_gpt41mini</th>\n",
       "      <th>rationale_category_num_gpt41mini</th>\n",
       "      <th>category_number_category_num_gpt4omini</th>\n",
       "      <th>rationale_category_num_gpt4omini</th>\n",
       "      <th>final_label_majority</th>\n",
       "    </tr>\n",
       "  </thead>\n",
       "  <tbody>\n",
       "    <tr>\n",
       "      <th>0</th>\n",
       "      <td>Explaining Persistent Ineffectiveness in Profe...</td>\n",
       "      <td>Abstract\\nOnline communities (OCs) have become...</td>\n",
       "      <td>Recommended Citation\\n\\n\\n    Stein, Mari-Klar...</td>\n",
       "      <td>https://aisel.aisnet.org/jais/vol23/iss1/1/</td>\n",
       "      <td>2022</td>\n",
       "      <td>23</td>\n",
       "      <td>1</td>\n",
       "      <td>3</td>\n",
       "      <td>The paper investigates user behavior (coping s...</td>\n",
       "      <td>3</td>\n",
       "      <td>The paper investigates user behavior, coping s...</td>\n",
       "      <td>3</td>\n",
       "      <td>The paper focuses on user behavior, community ...</td>\n",
       "      <td>3</td>\n",
       "      <td>The paper examines how multilevel tensions and...</td>\n",
       "      <td>3</td>\n",
       "    </tr>\n",
       "    <tr>\n",
       "      <th>1</th>\n",
       "      <td>A Design Theory for Energy and Carbon Manageme...</td>\n",
       "      <td>Abstract\\nEnergy and carbon management systems...</td>\n",
       "      <td>Recommended Citation\\n\\n\\n    Zampou, Eleni; M...</td>\n",
       "      <td>https://aisel.aisnet.org/jais/vol23/iss1/2/</td>\n",
       "      <td>2022</td>\n",
       "      <td>23</td>\n",
       "      <td>1</td>\n",
       "      <td>9</td>\n",
       "      <td>The paper focuses on the design and theory dev...</td>\n",
       "      <td>9</td>\n",
       "      <td>The paper develops a design theory for energy ...</td>\n",
       "      <td>9</td>\n",
       "      <td>The paper develops a design theory for energy ...</td>\n",
       "      <td>9</td>\n",
       "      <td>This paper develops a design science theory fo...</td>\n",
       "      <td>9</td>\n",
       "    </tr>\n",
       "    <tr>\n",
       "      <th>2</th>\n",
       "      <td>Examining the Impacts of Airbnb Review Policy ...</td>\n",
       "      <td>Abstract\\nIn July 2014, Airbnb, one of the big...</td>\n",
       "      <td>Recommended Citation\\n\\n\\n    Mousavi, Reza an...</td>\n",
       "      <td>https://aisel.aisnet.org/jais/vol23/iss1/3/</td>\n",
       "      <td>2022</td>\n",
       "      <td>23</td>\n",
       "      <td>1</td>\n",
       "      <td>8</td>\n",
       "      <td>The study examines how a policy change on a di...</td>\n",
       "      <td>8</td>\n",
       "      <td>The paper investigates the effects of a platfo...</td>\n",
       "      <td>3</td>\n",
       "      <td>The paper studies how a platform policy change...</td>\n",
       "      <td>8</td>\n",
       "      <td>The paper empirically evaluates a platform gov...</td>\n",
       "      <td>8</td>\n",
       "    </tr>\n",
       "    <tr>\n",
       "      <th>3</th>\n",
       "      <td>Inventing Together: The Role of Actor Goals an...</td>\n",
       "      <td>Abstract\\nWith the ubiquity of the internet an...</td>\n",
       "      <td>Recommended Citation\\n\\n\\n    Abhari, Kaveh; D...</td>\n",
       "      <td>https://aisel.aisnet.org/jais/vol23/iss1/4/</td>\n",
       "      <td>2022</td>\n",
       "      <td>23</td>\n",
       "      <td>1</td>\n",
       "      <td>8</td>\n",
       "      <td>The study investigates individual participatio...</td>\n",
       "      <td>8</td>\n",
       "      <td>The paper focuses on user engagement mechanism...</td>\n",
       "      <td>8</td>\n",
       "      <td>The paper focuses on user participation and be...</td>\n",
       "      <td>8</td>\n",
       "      <td>The study examines how platform affordances an...</td>\n",
       "      <td>8</td>\n",
       "    </tr>\n",
       "    <tr>\n",
       "      <th>4</th>\n",
       "      <td>The Design of a System for Online Psychosocial...</td>\n",
       "      <td>Abstract\\nThe design of sensitive online healt...</td>\n",
       "      <td>Recommended Citation\\n\\n\\n    Sjöström, Jonas;...</td>\n",
       "      <td>https://aisel.aisnet.org/jais/vol23/iss1/5/</td>\n",
       "      <td>2022</td>\n",
       "      <td>23</td>\n",
       "      <td>1</td>\n",
       "      <td>2</td>\n",
       "      <td>The paper focuses on designing an information ...</td>\n",
       "      <td>2</td>\n",
       "      <td>The paper centers on balancing privacy and acc...</td>\n",
       "      <td>2</td>\n",
       "      <td>The paper focuses on designing an online healt...</td>\n",
       "      <td>2</td>\n",
       "      <td>This design science study focuses on embedding...</td>\n",
       "      <td>2</td>\n",
       "    </tr>\n",
       "  </tbody>\n",
       "</table>\n",
       "</div>"
      ],
      "text/plain": [
       "                                               title  \\\n",
       "0  Explaining Persistent Ineffectiveness in Profe...   \n",
       "1  A Design Theory for Energy and Carbon Manageme...   \n",
       "2  Examining the Impacts of Airbnb Review Policy ...   \n",
       "3  Inventing Together: The Role of Actor Goals an...   \n",
       "4  The Design of a System for Online Psychosocial...   \n",
       "\n",
       "                                            abstract  \\\n",
       "0  Abstract\\nOnline communities (OCs) have become...   \n",
       "1  Abstract\\nEnergy and carbon management systems...   \n",
       "2  Abstract\\nIn July 2014, Airbnb, one of the big...   \n",
       "3  Abstract\\nWith the ubiquity of the internet an...   \n",
       "4  Abstract\\nThe design of sensitive online healt...   \n",
       "\n",
       "                                            citation  \\\n",
       "0  Recommended Citation\\n\\n\\n    Stein, Mari-Klar...   \n",
       "1  Recommended Citation\\n\\n\\n    Zampou, Eleni; M...   \n",
       "2  Recommended Citation\\n\\n\\n    Mousavi, Reza an...   \n",
       "3  Recommended Citation\\n\\n\\n    Abhari, Kaveh; D...   \n",
       "4  Recommended Citation\\n\\n\\n    Sjöström, Jonas;...   \n",
       "\n",
       "                                           url  year  volume issue  \\\n",
       "0  https://aisel.aisnet.org/jais/vol23/iss1/1/  2022      23     1   \n",
       "1  https://aisel.aisnet.org/jais/vol23/iss1/2/  2022      23     1   \n",
       "2  https://aisel.aisnet.org/jais/vol23/iss1/3/  2022      23     1   \n",
       "3  https://aisel.aisnet.org/jais/vol23/iss1/4/  2022      23     1   \n",
       "4  https://aisel.aisnet.org/jais/vol23/iss1/5/  2022      23     1   \n",
       "\n",
       "   category_number_category_num_gemini  \\\n",
       "0                                    3   \n",
       "1                                    9   \n",
       "2                                    8   \n",
       "3                                    8   \n",
       "4                                    2   \n",
       "\n",
       "                       rationale_category_num_gemini  \\\n",
       "0  The paper investigates user behavior (coping s...   \n",
       "1  The paper focuses on the design and theory dev...   \n",
       "2  The study examines how a policy change on a di...   \n",
       "3  The study investigates individual participatio...   \n",
       "4  The paper focuses on designing an information ...   \n",
       "\n",
       "   category_number_category_num_gpt41  \\\n",
       "0                                   3   \n",
       "1                                   9   \n",
       "2                                   8   \n",
       "3                                   8   \n",
       "4                                   2   \n",
       "\n",
       "                        rationale_category_num_gpt41  \\\n",
       "0  The paper investigates user behavior, coping s...   \n",
       "1  The paper develops a design theory for energy ...   \n",
       "2  The paper investigates the effects of a platfo...   \n",
       "3  The paper focuses on user engagement mechanism...   \n",
       "4  The paper centers on balancing privacy and acc...   \n",
       "\n",
       "   category_number_category_num_gpt41mini  \\\n",
       "0                                       3   \n",
       "1                                       9   \n",
       "2                                       3   \n",
       "3                                       8   \n",
       "4                                       2   \n",
       "\n",
       "                    rationale_category_num_gpt41mini  \\\n",
       "0  The paper focuses on user behavior, community ...   \n",
       "1  The paper develops a design theory for energy ...   \n",
       "2  The paper studies how a platform policy change...   \n",
       "3  The paper focuses on user participation and be...   \n",
       "4  The paper focuses on designing an online healt...   \n",
       "\n",
       "   category_number_category_num_gpt4omini  \\\n",
       "0                                       3   \n",
       "1                                       9   \n",
       "2                                       8   \n",
       "3                                       8   \n",
       "4                                       2   \n",
       "\n",
       "                    rationale_category_num_gpt4omini  final_label_majority  \n",
       "0  The paper examines how multilevel tensions and...                     3  \n",
       "1  This paper develops a design science theory fo...                     9  \n",
       "2  The paper empirically evaluates a platform gov...                     8  \n",
       "3  The study examines how platform affordances an...                     8  \n",
       "4  This design science study focuses on embedding...                     2  "
      ]
     },
     "execution_count": 37,
     "metadata": {},
     "output_type": "execute_result"
    }
   ],
   "source": [
    "JAIS_data.head()"
   ]
  },
  {
   "cell_type": "code",
   "execution_count": 3,
   "id": "13df9e6a",
   "metadata": {},
   "outputs": [
    {
     "data": {
      "text/html": [
       "<div>\n",
       "<style scoped>\n",
       "    .dataframe tbody tr th:only-of-type {\n",
       "        vertical-align: middle;\n",
       "    }\n",
       "\n",
       "    .dataframe tbody tr th {\n",
       "        vertical-align: top;\n",
       "    }\n",
       "\n",
       "    .dataframe thead th {\n",
       "        text-align: right;\n",
       "    }\n",
       "</style>\n",
       "<table border=\"1\" class=\"dataframe\">\n",
       "  <thead>\n",
       "    <tr style=\"text-align: right;\">\n",
       "      <th></th>\n",
       "      <th>year</th>\n",
       "      <th>final_label_majority</th>\n",
       "      <th>title</th>\n",
       "    </tr>\n",
       "  </thead>\n",
       "  <tbody>\n",
       "    <tr>\n",
       "      <th>0</th>\n",
       "      <td>2022</td>\n",
       "      <td>2</td>\n",
       "      <td>3</td>\n",
       "    </tr>\n",
       "    <tr>\n",
       "      <th>1</th>\n",
       "      <td>2022</td>\n",
       "      <td>3</td>\n",
       "      <td>5</td>\n",
       "    </tr>\n",
       "    <tr>\n",
       "      <th>2</th>\n",
       "      <td>2022</td>\n",
       "      <td>4</td>\n",
       "      <td>10</td>\n",
       "    </tr>\n",
       "    <tr>\n",
       "      <th>3</th>\n",
       "      <td>2022</td>\n",
       "      <td>5</td>\n",
       "      <td>2</td>\n",
       "    </tr>\n",
       "    <tr>\n",
       "      <th>4</th>\n",
       "      <td>2022</td>\n",
       "      <td>6</td>\n",
       "      <td>7</td>\n",
       "    </tr>\n",
       "    <tr>\n",
       "      <th>5</th>\n",
       "      <td>2022</td>\n",
       "      <td>7</td>\n",
       "      <td>1</td>\n",
       "    </tr>\n",
       "    <tr>\n",
       "      <th>6</th>\n",
       "      <td>2022</td>\n",
       "      <td>8</td>\n",
       "      <td>6</td>\n",
       "    </tr>\n",
       "    <tr>\n",
       "      <th>7</th>\n",
       "      <td>2022</td>\n",
       "      <td>9</td>\n",
       "      <td>1</td>\n",
       "    </tr>\n",
       "    <tr>\n",
       "      <th>8</th>\n",
       "      <td>2022</td>\n",
       "      <td>10</td>\n",
       "      <td>9</td>\n",
       "    </tr>\n",
       "    <tr>\n",
       "      <th>9</th>\n",
       "      <td>2023</td>\n",
       "      <td>1</td>\n",
       "      <td>4</td>\n",
       "    </tr>\n",
       "    <tr>\n",
       "      <th>10</th>\n",
       "      <td>2023</td>\n",
       "      <td>2</td>\n",
       "      <td>8</td>\n",
       "    </tr>\n",
       "    <tr>\n",
       "      <th>11</th>\n",
       "      <td>2023</td>\n",
       "      <td>3</td>\n",
       "      <td>12</td>\n",
       "    </tr>\n",
       "    <tr>\n",
       "      <th>12</th>\n",
       "      <td>2023</td>\n",
       "      <td>4</td>\n",
       "      <td>9</td>\n",
       "    </tr>\n",
       "    <tr>\n",
       "      <th>13</th>\n",
       "      <td>2023</td>\n",
       "      <td>5</td>\n",
       "      <td>2</td>\n",
       "    </tr>\n",
       "    <tr>\n",
       "      <th>14</th>\n",
       "      <td>2023</td>\n",
       "      <td>6</td>\n",
       "      <td>6</td>\n",
       "    </tr>\n",
       "    <tr>\n",
       "      <th>15</th>\n",
       "      <td>2023</td>\n",
       "      <td>7</td>\n",
       "      <td>5</td>\n",
       "    </tr>\n",
       "    <tr>\n",
       "      <th>16</th>\n",
       "      <td>2023</td>\n",
       "      <td>10</td>\n",
       "      <td>5</td>\n",
       "    </tr>\n",
       "    <tr>\n",
       "      <th>17</th>\n",
       "      <td>2024</td>\n",
       "      <td>1</td>\n",
       "      <td>2</td>\n",
       "    </tr>\n",
       "    <tr>\n",
       "      <th>18</th>\n",
       "      <td>2024</td>\n",
       "      <td>2</td>\n",
       "      <td>8</td>\n",
       "    </tr>\n",
       "    <tr>\n",
       "      <th>19</th>\n",
       "      <td>2024</td>\n",
       "      <td>3</td>\n",
       "      <td>12</td>\n",
       "    </tr>\n",
       "    <tr>\n",
       "      <th>20</th>\n",
       "      <td>2024</td>\n",
       "      <td>4</td>\n",
       "      <td>5</td>\n",
       "    </tr>\n",
       "    <tr>\n",
       "      <th>21</th>\n",
       "      <td>2024</td>\n",
       "      <td>5</td>\n",
       "      <td>2</td>\n",
       "    </tr>\n",
       "    <tr>\n",
       "      <th>22</th>\n",
       "      <td>2024</td>\n",
       "      <td>6</td>\n",
       "      <td>3</td>\n",
       "    </tr>\n",
       "    <tr>\n",
       "      <th>23</th>\n",
       "      <td>2024</td>\n",
       "      <td>7</td>\n",
       "      <td>1</td>\n",
       "    </tr>\n",
       "    <tr>\n",
       "      <th>24</th>\n",
       "      <td>2024</td>\n",
       "      <td>8</td>\n",
       "      <td>4</td>\n",
       "    </tr>\n",
       "    <tr>\n",
       "      <th>25</th>\n",
       "      <td>2024</td>\n",
       "      <td>10</td>\n",
       "      <td>8</td>\n",
       "    </tr>\n",
       "    <tr>\n",
       "      <th>26</th>\n",
       "      <td>2025</td>\n",
       "      <td>2</td>\n",
       "      <td>1</td>\n",
       "    </tr>\n",
       "    <tr>\n",
       "      <th>27</th>\n",
       "      <td>2025</td>\n",
       "      <td>3</td>\n",
       "      <td>6</td>\n",
       "    </tr>\n",
       "    <tr>\n",
       "      <th>28</th>\n",
       "      <td>2025</td>\n",
       "      <td>4</td>\n",
       "      <td>5</td>\n",
       "    </tr>\n",
       "    <tr>\n",
       "      <th>29</th>\n",
       "      <td>2025</td>\n",
       "      <td>6</td>\n",
       "      <td>1</td>\n",
       "    </tr>\n",
       "    <tr>\n",
       "      <th>30</th>\n",
       "      <td>2025</td>\n",
       "      <td>7</td>\n",
       "      <td>1</td>\n",
       "    </tr>\n",
       "    <tr>\n",
       "      <th>31</th>\n",
       "      <td>2025</td>\n",
       "      <td>8</td>\n",
       "      <td>11</td>\n",
       "    </tr>\n",
       "    <tr>\n",
       "      <th>32</th>\n",
       "      <td>2025</td>\n",
       "      <td>9</td>\n",
       "      <td>1</td>\n",
       "    </tr>\n",
       "    <tr>\n",
       "      <th>33</th>\n",
       "      <td>2025</td>\n",
       "      <td>10</td>\n",
       "      <td>4</td>\n",
       "    </tr>\n",
       "  </tbody>\n",
       "</table>\n",
       "</div>"
      ],
      "text/plain": [
       "    year  final_label_majority  title\n",
       "0   2022                     2      3\n",
       "1   2022                     3      5\n",
       "2   2022                     4     10\n",
       "3   2022                     5      2\n",
       "4   2022                     6      7\n",
       "5   2022                     7      1\n",
       "6   2022                     8      6\n",
       "7   2022                     9      1\n",
       "8   2022                    10      9\n",
       "9   2023                     1      4\n",
       "10  2023                     2      8\n",
       "11  2023                     3     12\n",
       "12  2023                     4      9\n",
       "13  2023                     5      2\n",
       "14  2023                     6      6\n",
       "15  2023                     7      5\n",
       "16  2023                    10      5\n",
       "17  2024                     1      2\n",
       "18  2024                     2      8\n",
       "19  2024                     3     12\n",
       "20  2024                     4      5\n",
       "21  2024                     5      2\n",
       "22  2024                     6      3\n",
       "23  2024                     7      1\n",
       "24  2024                     8      4\n",
       "25  2024                    10      8\n",
       "26  2025                     2      1\n",
       "27  2025                     3      6\n",
       "28  2025                     4      5\n",
       "29  2025                     6      1\n",
       "30  2025                     7      1\n",
       "31  2025                     8     11\n",
       "32  2025                     9      1\n",
       "33  2025                    10      4"
      ]
     },
     "execution_count": 3,
     "metadata": {},
     "output_type": "execute_result"
    }
   ],
   "source": [
    "grouped_data = JAIS_data.groupby(['year', 'final_label_majority'])['title'].count().reset_index()\n",
    "grouped_data"
   ]
  },
  {
   "cell_type": "code",
   "execution_count": 18,
   "id": "8d9b4899",
   "metadata": {},
   "outputs": [
    {
     "data": {
      "text/plain": [
       "<BarContainer object of 10 artists>"
      ]
     },
     "execution_count": 18,
     "metadata": {},
     "output_type": "execute_result"
    },
    {
     "data": {
      "text/plain": [
       "Text(0.5, 1.0, '2022')"
      ]
     },
     "execution_count": 18,
     "metadata": {},
     "output_type": "execute_result"
    },
    {
     "data": {
      "text/plain": [
       "[<matplotlib.axis.XTick at 0x158f64f2410>,\n",
       " <matplotlib.axis.XTick at 0x158f65ab610>,\n",
       " <matplotlib.axis.XTick at 0x158f65c1a50>,\n",
       " <matplotlib.axis.XTick at 0x158f65c2150>,\n",
       " <matplotlib.axis.XTick at 0x158f65c4850>,\n",
       " <matplotlib.axis.XTick at 0x158f65c5e50>,\n",
       " <matplotlib.axis.XTick at 0x158f65dbe90>,\n",
       " <matplotlib.axis.XTick at 0x158f65c9750>,\n",
       " <matplotlib.axis.XTick at 0x158f65cbc50>,\n",
       " <matplotlib.axis.XTick at 0x158f65e2090>]"
      ]
     },
     "execution_count": 18,
     "metadata": {},
     "output_type": "execute_result"
    },
    {
     "data": {
      "text/plain": [
       "[Text(1, 0, '1'),\n",
       " Text(2, 0, '2'),\n",
       " Text(3, 0, '3'),\n",
       " Text(4, 0, '4'),\n",
       " Text(5, 0, '5'),\n",
       " Text(6, 0, '6'),\n",
       " Text(7, 0, '7'),\n",
       " Text(8, 0, '8'),\n",
       " Text(9, 0, '9'),\n",
       " Text(10, 0, '10')]"
      ]
     },
     "execution_count": 18,
     "metadata": {},
     "output_type": "execute_result"
    },
    {
     "data": {
      "text/plain": [
       "Text(0, 0.5, 'Number of Papers')"
      ]
     },
     "execution_count": 18,
     "metadata": {},
     "output_type": "execute_result"
    },
    {
     "data": {
      "text/plain": [
       "Text(0.5, 0, 'Theme Category')"
      ]
     },
     "execution_count": 18,
     "metadata": {},
     "output_type": "execute_result"
    },
    {
     "data": {
      "text/plain": [
       "<BarContainer object of 10 artists>"
      ]
     },
     "execution_count": 18,
     "metadata": {},
     "output_type": "execute_result"
    },
    {
     "data": {
      "text/plain": [
       "Text(0.5, 1.0, '2023')"
      ]
     },
     "execution_count": 18,
     "metadata": {},
     "output_type": "execute_result"
    },
    {
     "data": {
      "text/plain": [
       "[<matplotlib.axis.XTick at 0x158f6540950>,\n",
       " <matplotlib.axis.XTick at 0x158f650a890>,\n",
       " <matplotlib.axis.XTick at 0x158f65f9590>,\n",
       " <matplotlib.axis.XTick at 0x158f65f9d10>,\n",
       " <matplotlib.axis.XTick at 0x158f65f7390>,\n",
       " <matplotlib.axis.XTick at 0x158f66016d0>,\n",
       " <matplotlib.axis.XTick at 0x158f65f5650>,\n",
       " <matplotlib.axis.XTick at 0x158f6604610>,\n",
       " <matplotlib.axis.XTick at 0x158f6606890>,\n",
       " <matplotlib.axis.XTick at 0x158f6608c50>]"
      ]
     },
     "execution_count": 18,
     "metadata": {},
     "output_type": "execute_result"
    },
    {
     "data": {
      "text/plain": [
       "[Text(1, 0, '1'),\n",
       " Text(2, 0, '2'),\n",
       " Text(3, 0, '3'),\n",
       " Text(4, 0, '4'),\n",
       " Text(5, 0, '5'),\n",
       " Text(6, 0, '6'),\n",
       " Text(7, 0, '7'),\n",
       " Text(8, 0, '8'),\n",
       " Text(9, 0, '9'),\n",
       " Text(10, 0, '10')]"
      ]
     },
     "execution_count": 18,
     "metadata": {},
     "output_type": "execute_result"
    },
    {
     "data": {
      "text/plain": [
       "[]"
      ]
     },
     "execution_count": 18,
     "metadata": {},
     "output_type": "execute_result"
    },
    {
     "data": {
      "text/plain": [
       "Text(0.5, 0, 'Theme Category')"
      ]
     },
     "execution_count": 18,
     "metadata": {},
     "output_type": "execute_result"
    },
    {
     "data": {
      "text/plain": [
       "<BarContainer object of 10 artists>"
      ]
     },
     "execution_count": 18,
     "metadata": {},
     "output_type": "execute_result"
    },
    {
     "data": {
      "text/plain": [
       "Text(0.5, 1.0, '2024')"
      ]
     },
     "execution_count": 18,
     "metadata": {},
     "output_type": "execute_result"
    },
    {
     "data": {
      "text/plain": [
       "[<matplotlib.axis.XTick at 0x158f655b8d0>,\n",
       " <matplotlib.axis.XTick at 0x158f6533050>,\n",
       " <matplotlib.axis.XTick at 0x158f66413d0>,\n",
       " <matplotlib.axis.XTick at 0x158f6630cd0>,\n",
       " <matplotlib.axis.XTick at 0x158f6632e90>,\n",
       " <matplotlib.axis.XTick at 0x158f664d310>,\n",
       " <matplotlib.axis.XTick at 0x158f66300d0>,\n",
       " <matplotlib.axis.XTick at 0x158f664f650>,\n",
       " <matplotlib.axis.XTick at 0x158f66521d0>,\n",
       " <matplotlib.axis.XTick at 0x158f6654550>]"
      ]
     },
     "execution_count": 18,
     "metadata": {},
     "output_type": "execute_result"
    },
    {
     "data": {
      "text/plain": [
       "[Text(1, 0, '1'),\n",
       " Text(2, 0, '2'),\n",
       " Text(3, 0, '3'),\n",
       " Text(4, 0, '4'),\n",
       " Text(5, 0, '5'),\n",
       " Text(6, 0, '6'),\n",
       " Text(7, 0, '7'),\n",
       " Text(8, 0, '8'),\n",
       " Text(9, 0, '9'),\n",
       " Text(10, 0, '10')]"
      ]
     },
     "execution_count": 18,
     "metadata": {},
     "output_type": "execute_result"
    },
    {
     "data": {
      "text/plain": [
       "[]"
      ]
     },
     "execution_count": 18,
     "metadata": {},
     "output_type": "execute_result"
    },
    {
     "data": {
      "text/plain": [
       "Text(0.5, 0, 'Theme Category')"
      ]
     },
     "execution_count": 18,
     "metadata": {},
     "output_type": "execute_result"
    },
    {
     "data": {
      "text/plain": [
       "<BarContainer object of 10 artists>"
      ]
     },
     "execution_count": 18,
     "metadata": {},
     "output_type": "execute_result"
    },
    {
     "data": {
      "text/plain": [
       "Text(0.5, 1.0, '2025')"
      ]
     },
     "execution_count": 18,
     "metadata": {},
     "output_type": "execute_result"
    },
    {
     "data": {
      "text/plain": [
       "[<matplotlib.axis.XTick at 0x158f658a950>,\n",
       " <matplotlib.axis.XTick at 0x158f650a010>,\n",
       " <matplotlib.axis.XTick at 0x158f66230d0>,\n",
       " <matplotlib.axis.XTick at 0x158f6696a90>,\n",
       " <matplotlib.axis.XTick at 0x158f668ce50>,\n",
       " <matplotlib.axis.XTick at 0x158f668f0d0>,\n",
       " <matplotlib.axis.XTick at 0x158f657c350>,\n",
       " <matplotlib.axis.XTick at 0x158f669e110>,\n",
       " <matplotlib.axis.XTick at 0x158f66a8550>,\n",
       " <matplotlib.axis.XTick at 0x158f66aa590>]"
      ]
     },
     "execution_count": 18,
     "metadata": {},
     "output_type": "execute_result"
    },
    {
     "data": {
      "text/plain": [
       "[Text(1, 0, '1'),\n",
       " Text(2, 0, '2'),\n",
       " Text(3, 0, '3'),\n",
       " Text(4, 0, '4'),\n",
       " Text(5, 0, '5'),\n",
       " Text(6, 0, '6'),\n",
       " Text(7, 0, '7'),\n",
       " Text(8, 0, '8'),\n",
       " Text(9, 0, '9'),\n",
       " Text(10, 0, '10')]"
      ]
     },
     "execution_count": 18,
     "metadata": {},
     "output_type": "execute_result"
    },
    {
     "data": {
      "text/plain": [
       "[]"
      ]
     },
     "execution_count": 18,
     "metadata": {},
     "output_type": "execute_result"
    },
    {
     "data": {
      "text/plain": [
       "Text(0.5, 0, 'Theme Category')"
      ]
     },
     "execution_count": 18,
     "metadata": {},
     "output_type": "execute_result"
    },
    {
     "data": {
      "text/plain": [
       "Text(2.0, 3.05, '3')"
      ]
     },
     "execution_count": 18,
     "metadata": {},
     "output_type": "execute_result"
    },
    {
     "data": {
      "text/plain": [
       "Text(3.0, 5.05, '5')"
      ]
     },
     "execution_count": 18,
     "metadata": {},
     "output_type": "execute_result"
    },
    {
     "data": {
      "text/plain": [
       "Text(4.0, 10.05, '10')"
      ]
     },
     "execution_count": 18,
     "metadata": {},
     "output_type": "execute_result"
    },
    {
     "data": {
      "text/plain": [
       "Text(5.0, 2.05, '2')"
      ]
     },
     "execution_count": 18,
     "metadata": {},
     "output_type": "execute_result"
    },
    {
     "data": {
      "text/plain": [
       "Text(6.0, 7.05, '7')"
      ]
     },
     "execution_count": 18,
     "metadata": {},
     "output_type": "execute_result"
    },
    {
     "data": {
      "text/plain": [
       "Text(7.0, 1.05, '1')"
      ]
     },
     "execution_count": 18,
     "metadata": {},
     "output_type": "execute_result"
    },
    {
     "data": {
      "text/plain": [
       "Text(8.0, 6.05, '6')"
      ]
     },
     "execution_count": 18,
     "metadata": {},
     "output_type": "execute_result"
    },
    {
     "data": {
      "text/plain": [
       "Text(9.0, 1.05, '1')"
      ]
     },
     "execution_count": 18,
     "metadata": {},
     "output_type": "execute_result"
    },
    {
     "data": {
      "text/plain": [
       "Text(10.0, 9.05, '9')"
      ]
     },
     "execution_count": 18,
     "metadata": {},
     "output_type": "execute_result"
    },
    {
     "data": {
      "text/plain": [
       "Text(1.0, 4.05, '4')"
      ]
     },
     "execution_count": 18,
     "metadata": {},
     "output_type": "execute_result"
    },
    {
     "data": {
      "text/plain": [
       "Text(2.0, 8.05, '8')"
      ]
     },
     "execution_count": 18,
     "metadata": {},
     "output_type": "execute_result"
    },
    {
     "data": {
      "text/plain": [
       "Text(3.0, 12.05, '12')"
      ]
     },
     "execution_count": 18,
     "metadata": {},
     "output_type": "execute_result"
    },
    {
     "data": {
      "text/plain": [
       "Text(4.0, 9.05, '9')"
      ]
     },
     "execution_count": 18,
     "metadata": {},
     "output_type": "execute_result"
    },
    {
     "data": {
      "text/plain": [
       "Text(5.0, 2.05, '2')"
      ]
     },
     "execution_count": 18,
     "metadata": {},
     "output_type": "execute_result"
    },
    {
     "data": {
      "text/plain": [
       "Text(6.0, 6.05, '6')"
      ]
     },
     "execution_count": 18,
     "metadata": {},
     "output_type": "execute_result"
    },
    {
     "data": {
      "text/plain": [
       "Text(7.0, 5.05, '5')"
      ]
     },
     "execution_count": 18,
     "metadata": {},
     "output_type": "execute_result"
    },
    {
     "data": {
      "text/plain": [
       "Text(10.0, 5.05, '5')"
      ]
     },
     "execution_count": 18,
     "metadata": {},
     "output_type": "execute_result"
    },
    {
     "data": {
      "text/plain": [
       "Text(1.0, 2.05, '2')"
      ]
     },
     "execution_count": 18,
     "metadata": {},
     "output_type": "execute_result"
    },
    {
     "data": {
      "text/plain": [
       "Text(2.0, 8.05, '8')"
      ]
     },
     "execution_count": 18,
     "metadata": {},
     "output_type": "execute_result"
    },
    {
     "data": {
      "text/plain": [
       "Text(3.0, 12.05, '12')"
      ]
     },
     "execution_count": 18,
     "metadata": {},
     "output_type": "execute_result"
    },
    {
     "data": {
      "text/plain": [
       "Text(4.0, 5.05, '5')"
      ]
     },
     "execution_count": 18,
     "metadata": {},
     "output_type": "execute_result"
    },
    {
     "data": {
      "text/plain": [
       "Text(5.0, 2.05, '2')"
      ]
     },
     "execution_count": 18,
     "metadata": {},
     "output_type": "execute_result"
    },
    {
     "data": {
      "text/plain": [
       "Text(6.0, 3.05, '3')"
      ]
     },
     "execution_count": 18,
     "metadata": {},
     "output_type": "execute_result"
    },
    {
     "data": {
      "text/plain": [
       "Text(7.0, 1.05, '1')"
      ]
     },
     "execution_count": 18,
     "metadata": {},
     "output_type": "execute_result"
    },
    {
     "data": {
      "text/plain": [
       "Text(8.0, 4.05, '4')"
      ]
     },
     "execution_count": 18,
     "metadata": {},
     "output_type": "execute_result"
    },
    {
     "data": {
      "text/plain": [
       "Text(10.0, 8.05, '8')"
      ]
     },
     "execution_count": 18,
     "metadata": {},
     "output_type": "execute_result"
    },
    {
     "data": {
      "text/plain": [
       "Text(2.0, 1.05, '1')"
      ]
     },
     "execution_count": 18,
     "metadata": {},
     "output_type": "execute_result"
    },
    {
     "data": {
      "text/plain": [
       "Text(3.0, 6.05, '6')"
      ]
     },
     "execution_count": 18,
     "metadata": {},
     "output_type": "execute_result"
    },
    {
     "data": {
      "text/plain": [
       "Text(4.0, 5.05, '5')"
      ]
     },
     "execution_count": 18,
     "metadata": {},
     "output_type": "execute_result"
    },
    {
     "data": {
      "text/plain": [
       "Text(6.0, 1.05, '1')"
      ]
     },
     "execution_count": 18,
     "metadata": {},
     "output_type": "execute_result"
    },
    {
     "data": {
      "text/plain": [
       "Text(7.0, 1.05, '1')"
      ]
     },
     "execution_count": 18,
     "metadata": {},
     "output_type": "execute_result"
    },
    {
     "data": {
      "text/plain": [
       "Text(8.0, 11.05, '11')"
      ]
     },
     "execution_count": 18,
     "metadata": {},
     "output_type": "execute_result"
    },
    {
     "data": {
      "text/plain": [
       "Text(9.0, 1.05, '1')"
      ]
     },
     "execution_count": 18,
     "metadata": {},
     "output_type": "execute_result"
    },
    {
     "data": {
      "text/plain": [
       "Text(10.0, 4.05, '4')"
      ]
     },
     "execution_count": 18,
     "metadata": {},
     "output_type": "execute_result"
    },
    {
     "data": {
      "text/plain": [
       "<matplotlib.legend.Legend at 0x158f66d6d90>"
      ]
     },
     "execution_count": 18,
     "metadata": {},
     "output_type": "execute_result"
    },
    {
     "data": {
      "text/plain": [
       "Text(0.5, 0.98, 'JAIS Yearly Theme Distribution (2022–2025)')"
      ]
     },
     "execution_count": 18,
     "metadata": {},
     "output_type": "execute_result"
    },
    {
     "data": {
      "image/png": "[encoded data removed]",
      "text/plain": [
       "<Figure size 2000x600 with 4 Axes>"
      ]
     },
     "metadata": {},
     "output_type": "display_data"
    }
   ],
   "source": [
    "import matplotlib.pyplot as plt\n",
    "import pandas as pd\n",
    "\n",
    "# 고정된 1~10번 주제와 레이블 매핑\n",
    "label_map = {\n",
    "    1: \"1: AI & ML in IS\",\n",
    "    2: \"2: Security & Privacy\",\n",
    "    3: \"3: Social Media Behavior\",\n",
    "    4: \"4: Digital Transformation\",\n",
    "    5: \"5: Analytics & Performance\",\n",
    "    6: \"6: HCI & UX Design\",\n",
    "    7: \"7: Digital Inclusion\",\n",
    "    8: \"8: Platform & Markets\",\n",
    "    9: \"9: Green IS & CSR\",\n",
    "    10: \"10: IS Theory & Methods\"\n",
    "}\n",
    "\n",
    "categories = list(label_map.keys())\n",
    "colors = plt.cm.tab10.colors\n",
    "years = sorted(grouped_data['year'].unique())\n",
    "\n",
    "# 시각화\n",
    "fig, axes = plt.subplots(1, len(years), figsize=(20, 6), sharey=True)\n",
    "\n",
    "# 막대 (범례용) 정의\n",
    "legend_handles = []\n",
    "\n",
    "for i, cat in enumerate(categories):\n",
    "    bar = plt.Rectangle((0,0), 1, 1, color=colors[i])\n",
    "    legend_handles.append(bar)\n",
    "\n",
    "for idx, year in enumerate(years):\n",
    "    ax = axes[idx]\n",
    "    \n",
    "    # 해당 연도 데이터 필터\n",
    "    df_year = grouped_data[grouped_data['year'] == year]\n",
    "    count_map = dict(zip(df_year['final_label_majority'], df_year['title']))\n",
    "    counts = [count_map.get(cat, 0) for cat in categories]\n",
    "    \n",
    "    # 막대 그래프\n",
    "    ax.bar(categories, counts, color=colors)\n",
    "    ax.set_title(f\"{year}\", fontsize=14)\n",
    "    ax.set_xticks(categories)\n",
    "    ax.set_xticklabels(categories)\n",
    "    \n",
    "    if idx == 0:\n",
    "        ax.set_ylabel(\"Number of Papers\")\n",
    "    else:\n",
    "        ax.set_yticklabels([])\n",
    "\n",
    "    ax.set_xlabel(\"Theme Category\")\n",
    "\n",
    "for idx, year in enumerate(years):\n",
    "    ax = axes[idx]\n",
    "\n",
    "    # 해당 연도 데이터 필터\n",
    "    df_year = grouped_data[grouped_data['year'] == year]\n",
    "    count_map = dict(zip(df_year['final_label_majority'], df_year['title']))\n",
    "    counts = [count_map.get(cat, 0) for cat in categories]\n",
    "    \n",
    "    # 막대 그래프\n",
    "    bars = ax.bar(categories, counts, color=colors)\n",
    "\n",
    "    # 🔹 여기서 count 표시\n",
    "    for bar, count in zip(bars, counts):\n",
    "        if count > 0:  # 0이면 생략\n",
    "            ax.text(\n",
    "                bar.get_x() + bar.get_width() / 2,\n",
    "                bar.get_height() + 0.05,\n",
    "                str(count),\n",
    "                ha='center',\n",
    "                va='bottom',\n",
    "                fontsize=10\n",
    "            )\n",
    "\n",
    "# ✅ 범례를 아래에 추가\n",
    "fig.legend(\n",
    "    legend_handles,\n",
    "    [label_map[k] for k in categories],\n",
    "    loc='lower center',\n",
    "    ncol=5,\n",
    "    fontsize=14,\n",
    "    bbox_to_anchor=(0.5, -0.05)  # ↓ 범례를 더 위로 올림\n",
    ")\n",
    "\n",
    "fig.suptitle(\"JAIS Yearly Theme Distribution (2022–2025)\", fontsize=16)\n",
    "plt.tight_layout()\n",
    "plt.subplots_adjust(bottom=0.2)  # 범례 공간 확보\n",
    "plt.show()\n"
   ]
  },
  {
   "cell_type": "code",
   "execution_count": 71,
   "id": "8d0a13e3",
   "metadata": {},
   "outputs": [
    {
     "data": {
      "text/html": [
       "<div>\n",
       "<style scoped>\n",
       "    .dataframe tbody tr th:only-of-type {\n",
       "        vertical-align: middle;\n",
       "    }\n",
       "\n",
       "    .dataframe tbody tr th {\n",
       "        vertical-align: top;\n",
       "    }\n",
       "\n",
       "    .dataframe thead th {\n",
       "        text-align: right;\n",
       "    }\n",
       "</style>\n",
       "<table border=\"1\" class=\"dataframe\">\n",
       "  <thead>\n",
       "    <tr style=\"text-align: right;\">\n",
       "      <th>final_label_majority</th>\n",
       "      <th>1</th>\n",
       "      <th>2</th>\n",
       "      <th>3</th>\n",
       "      <th>4</th>\n",
       "      <th>5</th>\n",
       "      <th>6</th>\n",
       "      <th>7</th>\n",
       "      <th>8</th>\n",
       "      <th>9</th>\n",
       "      <th>10</th>\n",
       "    </tr>\n",
       "    <tr>\n",
       "      <th>year</th>\n",
       "      <th></th>\n",
       "      <th></th>\n",
       "      <th></th>\n",
       "      <th></th>\n",
       "      <th></th>\n",
       "      <th></th>\n",
       "      <th></th>\n",
       "      <th></th>\n",
       "      <th></th>\n",
       "      <th></th>\n",
       "    </tr>\n",
       "  </thead>\n",
       "  <tbody>\n",
       "    <tr>\n",
       "      <th>2022</th>\n",
       "      <td>0</td>\n",
       "      <td>3</td>\n",
       "      <td>5</td>\n",
       "      <td>10</td>\n",
       "      <td>2</td>\n",
       "      <td>7</td>\n",
       "      <td>1</td>\n",
       "      <td>6</td>\n",
       "      <td>1</td>\n",
       "      <td>9</td>\n",
       "    </tr>\n",
       "    <tr>\n",
       "      <th>2023</th>\n",
       "      <td>4</td>\n",
       "      <td>8</td>\n",
       "      <td>12</td>\n",
       "      <td>9</td>\n",
       "      <td>2</td>\n",
       "      <td>6</td>\n",
       "      <td>5</td>\n",
       "      <td>0</td>\n",
       "      <td>0</td>\n",
       "      <td>5</td>\n",
       "    </tr>\n",
       "    <tr>\n",
       "      <th>2024</th>\n",
       "      <td>2</td>\n",
       "      <td>8</td>\n",
       "      <td>12</td>\n",
       "      <td>5</td>\n",
       "      <td>2</td>\n",
       "      <td>3</td>\n",
       "      <td>1</td>\n",
       "      <td>4</td>\n",
       "      <td>0</td>\n",
       "      <td>8</td>\n",
       "    </tr>\n",
       "    <tr>\n",
       "      <th>2025</th>\n",
       "      <td>0</td>\n",
       "      <td>1</td>\n",
       "      <td>6</td>\n",
       "      <td>5</td>\n",
       "      <td>0</td>\n",
       "      <td>1</td>\n",
       "      <td>1</td>\n",
       "      <td>11</td>\n",
       "      <td>1</td>\n",
       "      <td>4</td>\n",
       "    </tr>\n",
       "  </tbody>\n",
       "</table>\n",
       "</div>"
      ],
      "text/plain": [
       "final_label_majority  1   2   3   4   5   6   7   8   9   10\n",
       "year                                                        \n",
       "2022                   0   3   5  10   2   7   1   6   1   9\n",
       "2023                   4   8  12   9   2   6   5   0   0   5\n",
       "2024                   2   8  12   5   2   3   1   4   0   8\n",
       "2025                   0   1   6   5   0   1   1  11   1   4"
      ]
     },
     "execution_count": 71,
     "metadata": {},
     "output_type": "execute_result"
    }
   ],
   "source": [
    "JAIS_data.pivot_table(index='year', columns='final_label_majority', values='title', aggfunc='count').fillna(0).astype(int)"
   ]
  },
  {
   "cell_type": "code",
   "execution_count": null,
   "id": "d899625e",
   "metadata": {},
   "outputs": [],
   "source": [
    "import matplotlib.pyplot as plt\n",
    "import pandas as pd\n",
    "\n",
    "# 고정된 1~10번 주제와 레이블 매핑\n",
    "label_map = {\n",
    "    1: \"1: AI & ML in IS\",\n",
    "    2: \"2: Security & Privacy\",\n",
    "    3: \"3: Social Media Behavior\",\n",
    "    4: \"4: Digital Transformation\",\n",
    "    5: \"5: Analytics & Performance\",\n",
    "    6: \"6: HCI & UX Design\",\n",
    "    7: \"7: Digital Inclusion\",\n",
    "    8: \"8: Platform & Markets\",\n",
    "    9: \"9: Green IS & CSR\",\n",
    "    10: \"10: IS Theory & Methods\"\n",
    "}\n",
    "\n",
    "categories = list(label_map.keys())\n",
    "colors = plt.cm.tab10.colors\n",
    "years = sorted(grouped_data['year'].unique())\n",
    "\n",
    "# 시각화\n",
    "fig, axes = plt.subplots(1, len(years), figsize=(20, 6), sharey=True)\n",
    "\n",
    "# 막대 (범례용) 정의\n",
    "legend_handles = []\n",
    "\n",
    "for i, cat in enumerate(categories):\n",
    "    bar = plt.Rectangle((0,0), 1, 1, color=colors[i])\n",
    "    legend_handles.append(bar)\n",
    "\n",
    "for idx, year in enumerate(years):\n",
    "    ax = axes[idx]\n",
    "    \n",
    "    # 해당 연도 데이터 필터\n",
    "    df_year = grouped_data[grouped_data['year'] == year]\n",
    "    count_map = dict(zip(df_year['final_label_majority'], df_year['title']))\n",
    "    counts = [count_map.get(cat, 0) for cat in categories]\n",
    "    \n",
    "    # 막대 그래프\n",
    "    ax.bar(categories, counts, color=colors)\n",
    "    ax.set_title(f\"{year}\", fontsize=14)\n",
    "    ax.set_xticks(categories)\n",
    "    ax.set_xticklabels(categories)\n",
    "    \n",
    "    if idx == 0:\n",
    "        ax.set_ylabel(\"Number of Papers\")\n",
    "    else:\n",
    "        ax.set_yticklabels([])\n",
    "\n",
    "    ax.set_xlabel(\"Theme Category\")\n",
    "\n",
    "for idx, year in enumerate(years):\n",
    "    ax = axes[idx]\n",
    "\n",
    "    # 해당 연도 데이터 필터\n",
    "    df_year = grouped_data[grouped_data['year'] == year]\n",
    "    count_map = dict(zip(df_year['final_label_majority'], df_year['title']))\n",
    "    counts = [count_map.get(cat, 0) for cat in categories]\n",
    "    \n",
    "    # 막대 그래프\n",
    "    bars = ax.bar(categories, counts, color=colors)\n",
    "\n",
    "    # 🔹 여기서 count 표시\n",
    "    for bar, count in zip(bars, counts):\n",
    "        if count > 0:  # 0이면 생략\n",
    "            ax.text(\n",
    "                bar.get_x() + bar.get_width() / 2,\n",
    "                bar.get_height() + 0.05,\n",
    "                str(count),\n",
    "                ha='center',\n",
    "                va='bottom',\n",
    "                fontsize=10\n",
    "            )\n",
    "\n",
    "# ✅ 범례를 아래에 추가\n",
    "fig.legend(\n",
    "    legend_handles,\n",
    "    [label_map[k] for k in categories],\n",
    "    loc='lower center',\n",
    "    ncol=5,\n",
    "    fontsize=14,\n",
    "    bbox_to_anchor=(0.5, -0.05)  # ↓ 범례를 더 위로 올림\n",
    ")\n",
    "\n",
    "fig.suptitle(\"JAIS Yearly Theme Distribution (2022–2025)\", fontsize=16)\n",
    "plt.tight_layout()\n",
    "plt.subplots_adjust(bottom=0.2)  # 범례 공간 확보\n",
    "plt.show()\n"
   ]
  },
  {
   "cell_type": "code",
   "execution_count": 20,
   "id": "2530cf66",
   "metadata": {},
   "outputs": [
    {
     "data": {
      "text/plain": [
       "[<matplotlib.lines.Line2D at 0x158f67f0110>]"
      ]
     },
     "execution_count": 20,
     "metadata": {},
     "output_type": "execute_result"
    },
    {
     "data": {
      "text/plain": [
       "[<matplotlib.lines.Line2D at 0x158f6871b10>]"
      ]
     },
     "execution_count": 20,
     "metadata": {},
     "output_type": "execute_result"
    },
    {
     "data": {
      "text/plain": [
       "[<matplotlib.lines.Line2D at 0x158f687e010>]"
      ]
     },
     "execution_count": 20,
     "metadata": {},
     "output_type": "execute_result"
    },
    {
     "data": {
      "text/plain": [
       "[<matplotlib.lines.Line2D at 0x158f687e890>]"
      ]
     },
     "execution_count": 20,
     "metadata": {},
     "output_type": "execute_result"
    },
    {
     "data": {
      "text/plain": [
       "[<matplotlib.lines.Line2D at 0x158f687f710>]"
      ]
     },
     "execution_count": 20,
     "metadata": {},
     "output_type": "execute_result"
    },
    {
     "data": {
      "text/plain": [
       "[<matplotlib.lines.Line2D at 0x158f687dcd0>]"
      ]
     },
     "execution_count": 20,
     "metadata": {},
     "output_type": "execute_result"
    },
    {
     "data": {
      "text/plain": [
       "[<matplotlib.lines.Line2D at 0x158f6607850>]"
      ]
     },
     "execution_count": 20,
     "metadata": {},
     "output_type": "execute_result"
    },
    {
     "data": {
      "text/plain": [
       "[<matplotlib.lines.Line2D at 0x158f6889950>]"
      ]
     },
     "execution_count": 20,
     "metadata": {},
     "output_type": "execute_result"
    },
    {
     "data": {
      "text/plain": [
       "[<matplotlib.lines.Line2D at 0x158f688a110>]"
      ]
     },
     "execution_count": 20,
     "metadata": {},
     "output_type": "execute_result"
    },
    {
     "data": {
      "text/plain": [
       "[<matplotlib.lines.Line2D at 0x158f688a650>]"
      ]
     },
     "execution_count": 20,
     "metadata": {},
     "output_type": "execute_result"
    },
    {
     "data": {
      "text/plain": [
       "Text(0.5, 1.0, 'JAIS Category-wise Paper Trends (2022–2025)')"
      ]
     },
     "execution_count": 20,
     "metadata": {},
     "output_type": "execute_result"
    },
    {
     "data": {
      "text/plain": [
       "Text(0.5, 0, 'Year')"
      ]
     },
     "execution_count": 20,
     "metadata": {},
     "output_type": "execute_result"
    },
    {
     "data": {
      "text/plain": [
       "Text(0, 0.5, 'Number of Papers')"
      ]
     },
     "execution_count": 20,
     "metadata": {},
     "output_type": "execute_result"
    },
    {
     "data": {
      "text/plain": [
       "[<matplotlib.axis.XTick at 0x158f684c290>,\n",
       " <matplotlib.axis.XTick at 0x158f684c2d0>,\n",
       " <matplotlib.axis.XTick at 0x158f6783d10>,\n",
       " <matplotlib.axis.XTick at 0x158f6895d10>]"
      ]
     },
     "execution_count": 20,
     "metadata": {},
     "output_type": "execute_result"
    },
    {
     "data": {
      "text/plain": [
       "<matplotlib.legend.Legend at 0x158f6510b50>"
      ]
     },
     "execution_count": 20,
     "metadata": {},
     "output_type": "execute_result"
    },
    {
     "data": {
      "image/png": "[encoded data removed]",
      "text/plain": [
       "<Figure size 1200x600 with 1 Axes>"
      ]
     },
     "metadata": {},
     "output_type": "display_data"
    }
   ],
   "source": [
    "import matplotlib.pyplot as plt\n",
    "import pandas as pd\n",
    "\n",
    "# 🎯 카테고리 레이블과 색상\n",
    "label_map = {\n",
    "    1: \"1: AI & ML in IS\",\n",
    "    2: \"2: Security & Privacy\",\n",
    "    3: \"3: Social Media Behavior\",\n",
    "    4: \"4: Digital Transformation\",\n",
    "    5: \"5: Analytics & Performance\",\n",
    "    6: \"6: HCI & UX Design\",\n",
    "    7: \"7: Digital Inclusion\",\n",
    "    8: \"8: Platform & Markets\",\n",
    "    9: \"9: Green IS & CSR\",\n",
    "    10: \"10: IS Theory & Methods\"\n",
    "}\n",
    "categories = list(label_map.keys())\n",
    "colors = plt.cm.tab10.colors\n",
    "years = sorted(grouped_data[\"year\"].unique())\n",
    "\n",
    "# ✅ Line graph 그리기\n",
    "fig, ax = plt.subplots(figsize=(12, 6))\n",
    "\n",
    "for idx, cat in enumerate(categories):\n",
    "    counts_per_year = []\n",
    "    for year in years:\n",
    "        # 해당 카테고리 + 연도의 논문 수 가져오기\n",
    "        mask = (grouped_data[\"year\"] == year) & (grouped_data[\"final_label_majority\"] == cat)\n",
    "        count = grouped_data[mask][\"title\"].values\n",
    "        counts_per_year.append(int(count[0]) if len(count) > 0 else 0)\n",
    "\n",
    "    # 선 그리기\n",
    "    ax.plot(years, counts_per_year, label=label_map[cat], color=colors[idx], marker='o')\n",
    "\n",
    "# 축 및 범례 설정\n",
    "ax.set_title(\"JAIS Category-wise Paper Trends (2022–2025)\", fontsize=14)\n",
    "ax.set_xlabel(\"Year\")\n",
    "ax.set_ylabel(\"Number of Papers\")\n",
    "ax.set_xticks(years)\n",
    "ax.legend(loc='upper left', bbox_to_anchor=(1.02, 1), fontsize=10)  # 그래프 오른쪽 바깥으로\n",
    "plt.tight_layout()\n",
    "plt.show()\n"
   ]
  },
  {
   "cell_type": "code",
   "execution_count": 59,
   "id": "40b3a61d",
   "metadata": {},
   "outputs": [
    {
     "data": {
      "text/html": [
       "<div>\n",
       "<style scoped>\n",
       "    .dataframe tbody tr th:only-of-type {\n",
       "        vertical-align: middle;\n",
       "    }\n",
       "\n",
       "    .dataframe tbody tr th {\n",
       "        vertical-align: top;\n",
       "    }\n",
       "\n",
       "    .dataframe thead th {\n",
       "        text-align: right;\n",
       "    }\n",
       "</style>\n",
       "<table border=\"1\" class=\"dataframe\">\n",
       "  <thead>\n",
       "    <tr style=\"text-align: right;\">\n",
       "      <th></th>\n",
       "      <th>final_label_majority</th>\n",
       "      <th>year</th>\n",
       "      <th>cite_count</th>\n",
       "    </tr>\n",
       "  </thead>\n",
       "  <tbody>\n",
       "    <tr>\n",
       "      <th>0</th>\n",
       "      <td>1</td>\n",
       "      <td>2023</td>\n",
       "      <td>98</td>\n",
       "    </tr>\n",
       "    <tr>\n",
       "      <th>1</th>\n",
       "      <td>1</td>\n",
       "      <td>2024</td>\n",
       "      <td>6</td>\n",
       "    </tr>\n",
       "    <tr>\n",
       "      <th>2</th>\n",
       "      <td>2</td>\n",
       "      <td>2022</td>\n",
       "      <td>151</td>\n",
       "    </tr>\n",
       "    <tr>\n",
       "      <th>3</th>\n",
       "      <td>2</td>\n",
       "      <td>2023</td>\n",
       "      <td>81</td>\n",
       "    </tr>\n",
       "    <tr>\n",
       "      <th>4</th>\n",
       "      <td>2</td>\n",
       "      <td>2024</td>\n",
       "      <td>18</td>\n",
       "    </tr>\n",
       "    <tr>\n",
       "      <th>5</th>\n",
       "      <td>3</td>\n",
       "      <td>2022</td>\n",
       "      <td>73</td>\n",
       "    </tr>\n",
       "    <tr>\n",
       "      <th>6</th>\n",
       "      <td>3</td>\n",
       "      <td>2023</td>\n",
       "      <td>215</td>\n",
       "    </tr>\n",
       "    <tr>\n",
       "      <th>7</th>\n",
       "      <td>3</td>\n",
       "      <td>2024</td>\n",
       "      <td>32</td>\n",
       "    </tr>\n",
       "    <tr>\n",
       "      <th>8</th>\n",
       "      <td>4</td>\n",
       "      <td>2022</td>\n",
       "      <td>235</td>\n",
       "    </tr>\n",
       "    <tr>\n",
       "      <th>9</th>\n",
       "      <td>4</td>\n",
       "      <td>2023</td>\n",
       "      <td>173</td>\n",
       "    </tr>\n",
       "    <tr>\n",
       "      <th>10</th>\n",
       "      <td>4</td>\n",
       "      <td>2024</td>\n",
       "      <td>9</td>\n",
       "    </tr>\n",
       "    <tr>\n",
       "      <th>11</th>\n",
       "      <td>5</td>\n",
       "      <td>2022</td>\n",
       "      <td>82</td>\n",
       "    </tr>\n",
       "    <tr>\n",
       "      <th>12</th>\n",
       "      <td>5</td>\n",
       "      <td>2023</td>\n",
       "      <td>20</td>\n",
       "    </tr>\n",
       "    <tr>\n",
       "      <th>13</th>\n",
       "      <td>5</td>\n",
       "      <td>2024</td>\n",
       "      <td>1</td>\n",
       "    </tr>\n",
       "    <tr>\n",
       "      <th>14</th>\n",
       "      <td>6</td>\n",
       "      <td>2022</td>\n",
       "      <td>456</td>\n",
       "    </tr>\n",
       "    <tr>\n",
       "      <th>15</th>\n",
       "      <td>6</td>\n",
       "      <td>2023</td>\n",
       "      <td>58</td>\n",
       "    </tr>\n",
       "    <tr>\n",
       "      <th>16</th>\n",
       "      <td>6</td>\n",
       "      <td>2024</td>\n",
       "      <td>18</td>\n",
       "    </tr>\n",
       "    <tr>\n",
       "      <th>17</th>\n",
       "      <td>7</td>\n",
       "      <td>2022</td>\n",
       "      <td>36</td>\n",
       "    </tr>\n",
       "    <tr>\n",
       "      <th>18</th>\n",
       "      <td>7</td>\n",
       "      <td>2023</td>\n",
       "      <td>49</td>\n",
       "    </tr>\n",
       "    <tr>\n",
       "      <th>19</th>\n",
       "      <td>7</td>\n",
       "      <td>2024</td>\n",
       "      <td>1</td>\n",
       "    </tr>\n",
       "    <tr>\n",
       "      <th>20</th>\n",
       "      <td>8</td>\n",
       "      <td>2022</td>\n",
       "      <td>88</td>\n",
       "    </tr>\n",
       "    <tr>\n",
       "      <th>21</th>\n",
       "      <td>8</td>\n",
       "      <td>2024</td>\n",
       "      <td>4</td>\n",
       "    </tr>\n",
       "    <tr>\n",
       "      <th>22</th>\n",
       "      <td>9</td>\n",
       "      <td>2022</td>\n",
       "      <td>50</td>\n",
       "    </tr>\n",
       "    <tr>\n",
       "      <th>23</th>\n",
       "      <td>10</td>\n",
       "      <td>2022</td>\n",
       "      <td>460</td>\n",
       "    </tr>\n",
       "    <tr>\n",
       "      <th>24</th>\n",
       "      <td>10</td>\n",
       "      <td>2023</td>\n",
       "      <td>55</td>\n",
       "    </tr>\n",
       "    <tr>\n",
       "      <th>25</th>\n",
       "      <td>10</td>\n",
       "      <td>2024</td>\n",
       "      <td>26</td>\n",
       "    </tr>\n",
       "  </tbody>\n",
       "</table>\n",
       "</div>"
      ],
      "text/plain": [
       "    final_label_majority  year  cite_count\n",
       "0                      1  2023          98\n",
       "1                      1  2024           6\n",
       "2                      2  2022         151\n",
       "3                      2  2023          81\n",
       "4                      2  2024          18\n",
       "5                      3  2022          73\n",
       "6                      3  2023         215\n",
       "7                      3  2024          32\n",
       "8                      4  2022         235\n",
       "9                      4  2023         173\n",
       "10                     4  2024           9\n",
       "11                     5  2022          82\n",
       "12                     5  2023          20\n",
       "13                     5  2024           1\n",
       "14                     6  2022         456\n",
       "15                     6  2023          58\n",
       "16                     6  2024          18\n",
       "17                     7  2022          36\n",
       "18                     7  2023          49\n",
       "19                     7  2024           1\n",
       "20                     8  2022          88\n",
       "21                     8  2024           4\n",
       "22                     9  2022          50\n",
       "23                    10  2022         460\n",
       "24                    10  2023          55\n",
       "25                    10  2024          26"
      ]
     },
     "execution_count": 59,
     "metadata": {},
     "output_type": "execute_result"
    }
   ],
   "source": [
    "df = citation_data[citation_data['year'] < 2025]\n",
    "\n",
    "df.groupby(['final_label_majority', 'year'])['cite_count'].sum().reset_index()"
   ]
  },
  {
   "cell_type": "code",
   "execution_count": 66,
   "id": "9254d7a9",
   "metadata": {},
   "outputs": [],
   "source": [
    "# 1. 연도-카테고리별로 인용수 합산\n",
    "df_grouped = (\n",
    "    df.groupby([\"year\", \"final_label_majority\"], as_index=False)[\"cite_count\"]\n",
    "    .sum()\n",
    ")\n",
    "\n",
    "# 2. 누락된 조합 포함한 전체 조합 생성\n",
    "all_years = sorted(df_grouped[\"year\"].unique())\n",
    "all_categories = sorted(df_grouped[\"final_label_majority\"].unique())\n",
    "full_index = pd.MultiIndex.from_product([all_years, all_categories], names=[\"year\", \"final_label_majority\"])\n",
    "\n",
    "# 3. 인덱스 재설정 후 누락값 0으로 채움\n",
    "df_filled = (\n",
    "    df_grouped.set_index([\"year\", \"final_label_majority\"])\n",
    "    .reindex(full_index, fill_value=0)\n",
    "    .reset_index()\n",
    ")\n",
    "\n",
    "# 4. 카테고리별 누적 인용수 계산\n",
    "df_filled[\"cumulative_cite_count\"] = (\n",
    "    df_filled.sort_values(by=[\"final_label_majority\", \"year\"])\n",
    "    .groupby(\"final_label_majority\")[\"cite_count\"]\n",
    "    .cumsum()\n",
    ")\n",
    "\n",
    "# 5. pivot 테이블 생성 (그래프용)\n",
    "pivot_df = df_filled.pivot(index=\"year\", columns=\"final_label_majority\", values=\"cumulative_cite_count\")\n",
    "pivot_df = pivot_df.fillna(0).astype(int).sort_index()\n",
    "\n",
    "\n"
   ]
  },
  {
   "cell_type": "code",
   "execution_count": 67,
   "id": "4b9883c8",
   "metadata": {},
   "outputs": [
    {
     "data": {
      "text/html": [
       "<div>\n",
       "<style scoped>\n",
       "    .dataframe tbody tr th:only-of-type {\n",
       "        vertical-align: middle;\n",
       "    }\n",
       "\n",
       "    .dataframe tbody tr th {\n",
       "        vertical-align: top;\n",
       "    }\n",
       "\n",
       "    .dataframe thead th {\n",
       "        text-align: right;\n",
       "    }\n",
       "</style>\n",
       "<table border=\"1\" class=\"dataframe\">\n",
       "  <thead>\n",
       "    <tr style=\"text-align: right;\">\n",
       "      <th>final_label_majority</th>\n",
       "      <th>1</th>\n",
       "      <th>2</th>\n",
       "      <th>3</th>\n",
       "      <th>4</th>\n",
       "      <th>5</th>\n",
       "      <th>6</th>\n",
       "      <th>7</th>\n",
       "      <th>8</th>\n",
       "      <th>9</th>\n",
       "      <th>10</th>\n",
       "    </tr>\n",
       "    <tr>\n",
       "      <th>year</th>\n",
       "      <th></th>\n",
       "      <th></th>\n",
       "      <th></th>\n",
       "      <th></th>\n",
       "      <th></th>\n",
       "      <th></th>\n",
       "      <th></th>\n",
       "      <th></th>\n",
       "      <th></th>\n",
       "      <th></th>\n",
       "    </tr>\n",
       "  </thead>\n",
       "  <tbody>\n",
       "    <tr>\n",
       "      <th>2022</th>\n",
       "      <td>0</td>\n",
       "      <td>151</td>\n",
       "      <td>73</td>\n",
       "      <td>235</td>\n",
       "      <td>82</td>\n",
       "      <td>456</td>\n",
       "      <td>36</td>\n",
       "      <td>88</td>\n",
       "      <td>50</td>\n",
       "      <td>460</td>\n",
       "    </tr>\n",
       "    <tr>\n",
       "      <th>2023</th>\n",
       "      <td>98</td>\n",
       "      <td>232</td>\n",
       "      <td>288</td>\n",
       "      <td>408</td>\n",
       "      <td>102</td>\n",
       "      <td>514</td>\n",
       "      <td>85</td>\n",
       "      <td>88</td>\n",
       "      <td>50</td>\n",
       "      <td>515</td>\n",
       "    </tr>\n",
       "    <tr>\n",
       "      <th>2024</th>\n",
       "      <td>104</td>\n",
       "      <td>250</td>\n",
       "      <td>320</td>\n",
       "      <td>417</td>\n",
       "      <td>103</td>\n",
       "      <td>532</td>\n",
       "      <td>86</td>\n",
       "      <td>92</td>\n",
       "      <td>50</td>\n",
       "      <td>541</td>\n",
       "    </tr>\n",
       "  </tbody>\n",
       "</table>\n",
       "</div>"
      ],
      "text/plain": [
       "final_label_majority   1    2    3    4    5    6   7   8   9    10\n",
       "year                                                               \n",
       "2022                    0  151   73  235   82  456  36  88  50  460\n",
       "2023                   98  232  288  408  102  514  85  88  50  515\n",
       "2024                  104  250  320  417  103  532  86  92  50  541"
      ]
     },
     "execution_count": 67,
     "metadata": {},
     "output_type": "execute_result"
    }
   ],
   "source": [
    "pivot_df"
   ]
  },
  {
   "cell_type": "code",
   "execution_count": 69,
   "id": "6d6c9d62",
   "metadata": {},
   "outputs": [
    {
     "data": {
      "text/plain": [
       "[<matplotlib.collections.FillBetweenPolyCollection at 0x158faaa82d0>,\n",
       " <matplotlib.collections.FillBetweenPolyCollection at 0x158faceb6d0>,\n",
       " <matplotlib.collections.FillBetweenPolyCollection at 0x158f6de21d0>,\n",
       " <matplotlib.collections.FillBetweenPolyCollection at 0x158facd35d0>,\n",
       " <matplotlib.collections.FillBetweenPolyCollection at 0x158facf8bd0>,\n",
       " <matplotlib.collections.FillBetweenPolyCollection at 0x158facfa110>,\n",
       " <matplotlib.collections.FillBetweenPolyCollection at 0x158f6d66510>,\n",
       " <matplotlib.collections.FillBetweenPolyCollection at 0x158faca7910>,\n",
       " <matplotlib.collections.FillBetweenPolyCollection at 0x158faa72d10>,\n",
       " <matplotlib.collections.FillBetweenPolyCollection at 0x158facd1510>]"
      ]
     },
     "execution_count": 69,
     "metadata": {},
     "output_type": "execute_result"
    },
    {
     "data": {
      "text/plain": [
       "Text(0.5, 1.0, '📊 Cumulative Citation Stack by Theme (2022–2024)')"
      ]
     },
     "execution_count": 69,
     "metadata": {},
     "output_type": "execute_result"
    },
    {
     "data": {
      "text/plain": [
       "Text(0.5, 0, 'Year')"
      ]
     },
     "execution_count": 69,
     "metadata": {},
     "output_type": "execute_result"
    },
    {
     "data": {
      "text/plain": [
       "Text(0, 0.5, 'Cumulative Citation Count')"
      ]
     },
     "execution_count": 69,
     "metadata": {},
     "output_type": "execute_result"
    },
    {
     "data": {
      "text/plain": [
       "<matplotlib.legend.Legend at 0x158f6e96590>"
      ]
     },
     "execution_count": 69,
     "metadata": {},
     "output_type": "execute_result"
    },
    {
     "name": "stderr",
     "output_type": "stream",
     "text": [
      "C:\\Users\\JaehyunAhn\\AppData\\Local\\Temp\\ipykernel_41756\\2902728127.py:35: UserWarning: Glyph 128202 (\\N{BAR CHART}) missing from font(s) Verdana.\n",
      "  plt.tight_layout()\n",
      "c:\\Users\\JaehyunAhn\\Desktop\\Codes\\python_venvs\\py311_langchain\\Lib\\site-packages\\IPython\\core\\pylabtools.py:170: UserWarning: Glyph 128202 (\\N{BAR CHART}) missing from font(s) Verdana.\n",
      "  fig.canvas.print_figure(bytes_io, **kw)\n"
     ]
    },
    {
     "data": {
      "image/png": "[encoded data removed]",
      "text/plain": [
       "<Figure size 1200x600 with 1 Axes>"
      ]
     },
     "metadata": {},
     "output_type": "display_data"
    }
   ],
   "source": [
    "import matplotlib.pyplot as plt\n",
    "\n",
    "# 주제명 매핑\n",
    "label_map = {\n",
    "    1: \"1: AI & ML in IS\",\n",
    "    2: \"2: Security & Privacy\",\n",
    "    3: \"3: Social Media Behavior\",\n",
    "    4: \"4: Digital Transformation\",\n",
    "    5: \"5: Analytics & Performance\",\n",
    "    6: \"6: HCI & UX Design\",\n",
    "    7: \"7: Digital Inclusion\",\n",
    "    8: \"8: Platform & Markets\",\n",
    "    9: \"9: Green IS & CSR\",\n",
    "    10: \"10: IS Theory & Methods\"\n",
    "}\n",
    "\n",
    "categories = list(label_map.keys())\n",
    "colors = plt.cm.tab10.colors  # 10개 색상\n",
    "\n",
    "# 누적 선그래프\n",
    "fig, ax = plt.subplots(figsize=(12, 6))\n",
    "\n",
    "ax.stackplot(\n",
    "    pivot_df.index,          # 연도 (X축)\n",
    "    pivot_df[categories].T,  # 각 카테고리의 Y값을 행렬로\n",
    "    labels=[label_map[k] for k in categories],\n",
    "    colors=colors\n",
    ")\n",
    "\n",
    "# 그래프 설정\n",
    "ax.set_title(\"📊 Cumulative Citation Stack by Theme (2022–2024)\", fontsize=14)\n",
    "ax.set_xlabel(\"Year\")\n",
    "ax.set_ylabel(\"Cumulative Citation Count\")\n",
    "ax.legend(loc='upper left', bbox_to_anchor=(1.02, 1), fontsize=10)\n",
    "plt.tight_layout()\n",
    "plt.show()\n",
    "\n"
   ]
  },
  {
   "cell_type": "code",
   "execution_count": null,
   "id": "c9b65a14",
   "metadata": {},
   "outputs": [
    {
     "data": {
      "text/plain": [
       "[<matplotlib.lines.Line2D at 0x158faeda650>]"
      ]
     },
     "execution_count": 72,
     "metadata": {},
     "output_type": "execute_result"
    },
    {
     "data": {
      "text/plain": [
       "[<matplotlib.lines.Line2D at 0x158faeda850>]"
      ]
     },
     "execution_count": 72,
     "metadata": {},
     "output_type": "execute_result"
    },
    {
     "data": {
      "text/plain": [
       "[<matplotlib.lines.Line2D at 0x158faedb950>]"
      ]
     },
     "execution_count": 72,
     "metadata": {},
     "output_type": "execute_result"
    },
    {
     "data": {
      "text/plain": [
       "[<matplotlib.lines.Line2D at 0x158faee8810>]"
      ]
     },
     "execution_count": 72,
     "metadata": {},
     "output_type": "execute_result"
    },
    {
     "data": {
      "text/plain": [
       "[<matplotlib.lines.Line2D at 0x158faee9290>]"
      ]
     },
     "execution_count": 72,
     "metadata": {},
     "output_type": "execute_result"
    },
    {
     "data": {
      "text/plain": [
       "[<matplotlib.lines.Line2D at 0x158faee9f90>]"
      ]
     },
     "execution_count": 72,
     "metadata": {},
     "output_type": "execute_result"
    },
    {
     "data": {
      "text/plain": [
       "[<matplotlib.lines.Line2D at 0x158faeeac50>]"
      ]
     },
     "execution_count": 72,
     "metadata": {},
     "output_type": "execute_result"
    },
    {
     "data": {
      "text/plain": [
       "[<matplotlib.lines.Line2D at 0x158faeeb8d0>]"
      ]
     },
     "execution_count": 72,
     "metadata": {},
     "output_type": "execute_result"
    },
    {
     "data": {
      "text/plain": [
       "[<matplotlib.lines.Line2D at 0x158faef05d0>]"
      ]
     },
     "execution_count": 72,
     "metadata": {},
     "output_type": "execute_result"
    },
    {
     "data": {
      "text/plain": [
       "[<matplotlib.lines.Line2D at 0x158faef1290>]"
      ]
     },
     "execution_count": 72,
     "metadata": {},
     "output_type": "execute_result"
    },
    {
     "data": {
      "text/plain": [
       "Text(0.5, 1.0, '📈 Cumulative Citations per Theme by Year')"
      ]
     },
     "execution_count": 72,
     "metadata": {},
     "output_type": "execute_result"
    },
    {
     "data": {
      "text/plain": [
       "Text(0.5, 0, 'Year')"
      ]
     },
     "execution_count": 72,
     "metadata": {},
     "output_type": "execute_result"
    },
    {
     "data": {
      "text/plain": [
       "Text(0, 0.5, 'Cumulative Citation Count')"
      ]
     },
     "execution_count": 72,
     "metadata": {},
     "output_type": "execute_result"
    },
    {
     "data": {
      "text/plain": [
       "[<matplotlib.axis.XTick at 0x158faeae690>,\n",
       " <matplotlib.axis.XTick at 0x158f68d6f50>,\n",
       " <matplotlib.axis.XTick at 0x158faeabd10>]"
      ]
     },
     "execution_count": 72,
     "metadata": {},
     "output_type": "execute_result"
    },
    {
     "data": {
      "text/plain": [
       "<matplotlib.legend.Legend at 0x158fae7de50>"
      ]
     },
     "execution_count": 72,
     "metadata": {},
     "output_type": "execute_result"
    },
    {
     "name": "stderr",
     "output_type": "stream",
     "text": [
      "C:\\Users\\JaehyunAhn\\AppData\\Local\\Temp\\ipykernel_41756\\2255393022.py:39: UserWarning: Glyph 128200 (\\N{CHART WITH UPWARDS TREND}) missing from font(s) Verdana.\n",
      "  plt.tight_layout()\n",
      "c:\\Users\\JaehyunAhn\\Desktop\\Codes\\python_venvs\\py311_langchain\\Lib\\site-packages\\IPython\\core\\pylabtools.py:170: UserWarning: Glyph 128200 (\\N{CHART WITH UPWARDS TREND}) missing from font(s) Verdana.\n",
      "  fig.canvas.print_figure(bytes_io, **kw)\n"
     ]
    },
    {
     "data": {
      "image/png": "[encoded data removed]",
      "text/plain": [
       "<Figure size 1200x600 with 1 Axes>"
      ]
     },
     "metadata": {},
     "output_type": "display_data"
    }
   ],
   "source": [
    "import matplotlib.pyplot as plt\n",
    "\n",
    "# 🎯 카테고리 → 주제 레이블 매핑\n",
    "label_map = {\n",
    "    1: \"1: AI & ML in IS\",\n",
    "    2: \"2: Security & Privacy\",\n",
    "    3: \"3: Social Media Behavior\",\n",
    "    4: \"4: Digital Transformation\",\n",
    "    5: \"5: Analytics & Performance\",\n",
    "    6: \"6: HCI & UX Design\",\n",
    "    7: \"7: Digital Inclusion\",\n",
    "    8: \"8: Platform & Markets\",\n",
    "    9: \"9: Green IS & CSR\",\n",
    "    10: \"10: IS Theory & Methods\"\n",
    "}\n",
    "\n",
    "colors = plt.cm.tab10.colors\n",
    "categories = list(label_map.keys())\n",
    "\n",
    "# ✅ 선 그래프 생성\n",
    "fig, ax = plt.subplots(figsize=(12, 6))\n",
    "\n",
    "for idx, cat in enumerate(categories):\n",
    "    y = pivot_df[cat].values\n",
    "    ax.plot(\n",
    "        pivot_df.index,\n",
    "        y,\n",
    "        label=label_map[cat],\n",
    "        color=colors[idx],\n",
    "        marker='o'\n",
    "    )\n",
    "\n",
    "# ✅ 그래프 설정\n",
    "ax.set_title(\"JAIS Cumulative Citations per Theme by Year\", fontsize=14)\n",
    "ax.set_xlabel(\"Year\")\n",
    "ax.set_ylabel(\"Cumulative Citation Count\")\n",
    "ax.set_xticks(pivot_df.index)\n",
    "ax.legend(loc=\"upper left\", bbox_to_anchor=(1.02, 1), fontsize=10)\n",
    "plt.tight_layout()\n",
    "plt.show()\n"
   ]
  }
 ],
 "metadata": {
  "kernelspec": {
   "display_name": "py311_langchain",
   "language": "python",
   "name": "python3"
  },
  "language_info": {
   "codemirror_mode": {
    "name": "ipython",
    "version": 3
   },
   "file_extension": ".py",
   "mimetype": "text/x-python",
   "name": "python",
   "nbconvert_exporter": "python",
   "pygments_lexer": "ipython3",
   "version": "3.11.9"
  }
 },
 "nbformat": 4,
 "nbformat_minor": 5
}
