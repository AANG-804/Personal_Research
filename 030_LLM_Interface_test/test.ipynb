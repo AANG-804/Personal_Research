{
 "cells": [
  {
   "cell_type": "code",
   "execution_count": null,
   "id": "8f389f59",
   "metadata": {},
   "outputs": [],
   "source": []
  }
 ],
 "metadata": {
  "kernelspec": {
   "display_name": "030_LLM_Interface_test",
   "language": "python",
   "name": "python3"
  },
  "language_info": {
   "name": "python",
   "version": "3.11.9"
  }
 },
 "nbformat": 4,
 "nbformat_minor": 5
}
